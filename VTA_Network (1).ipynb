{
  "nbformat": 4,
  "nbformat_minor": 0,
  "metadata": {
    "colab": {
      "provenance": [],
      "toc_visible": true
    },
    "kernelspec": {
      "name": "python3",
      "display_name": "Python 3"
    },
    "language_info": {
      "name": "python"
    }
  },
  "cells": [
    {
      "cell_type": "code",
      "source": [
        "!pip install cartopy #Install"
      ],
      "metadata": {
        "colab": {
          "base_uri": "https://localhost:8080/"
        },
        "id": "thl2X9NAifTf",
        "outputId": "27cc4b0f-e38d-4288-a403-61ac71e21da1"
      },
      "execution_count": null,
      "outputs": [
        {
          "output_type": "stream",
          "name": "stdout",
          "text": [
            "Requirement already satisfied: cartopy in /usr/local/lib/python3.10/dist-packages (0.24.1)\n",
            "Requirement already satisfied: numpy>=1.23 in /usr/local/lib/python3.10/dist-packages (from cartopy) (1.26.4)\n",
            "Requirement already satisfied: matplotlib>=3.6 in /usr/local/lib/python3.10/dist-packages (from cartopy) (3.8.0)\n",
            "Requirement already satisfied: shapely>=1.8 in /usr/local/lib/python3.10/dist-packages (from cartopy) (2.0.6)\n",
            "Requirement already satisfied: packaging>=21 in /usr/local/lib/python3.10/dist-packages (from cartopy) (24.2)\n",
            "Requirement already satisfied: pyshp>=2.3 in /usr/local/lib/python3.10/dist-packages (from cartopy) (2.3.1)\n",
            "Requirement already satisfied: pyproj>=3.3.1 in /usr/local/lib/python3.10/dist-packages (from cartopy) (3.7.0)\n",
            "Requirement already satisfied: contourpy>=1.0.1 in /usr/local/lib/python3.10/dist-packages (from matplotlib>=3.6->cartopy) (1.3.1)\n",
            "Requirement already satisfied: cycler>=0.10 in /usr/local/lib/python3.10/dist-packages (from matplotlib>=3.6->cartopy) (0.12.1)\n",
            "Requirement already satisfied: fonttools>=4.22.0 in /usr/local/lib/python3.10/dist-packages (from matplotlib>=3.6->cartopy) (4.55.0)\n",
            "Requirement already satisfied: kiwisolver>=1.0.1 in /usr/local/lib/python3.10/dist-packages (from matplotlib>=3.6->cartopy) (1.4.7)\n",
            "Requirement already satisfied: pillow>=6.2.0 in /usr/local/lib/python3.10/dist-packages (from matplotlib>=3.6->cartopy) (11.0.0)\n",
            "Requirement already satisfied: pyparsing>=2.3.1 in /usr/local/lib/python3.10/dist-packages (from matplotlib>=3.6->cartopy) (3.2.0)\n",
            "Requirement already satisfied: python-dateutil>=2.7 in /usr/local/lib/python3.10/dist-packages (from matplotlib>=3.6->cartopy) (2.8.2)\n",
            "Requirement already satisfied: certifi in /usr/local/lib/python3.10/dist-packages (from pyproj>=3.3.1->cartopy) (2024.8.30)\n",
            "Requirement already satisfied: six>=1.5 in /usr/local/lib/python3.10/dist-packages (from python-dateutil>=2.7->matplotlib>=3.6->cartopy) (1.16.0)\n"
          ]
        }
      ]
    },
    {
      "cell_type": "markdown",
      "source": [
        "# Creating the graph"
      ],
      "metadata": {
        "id": "hNE1S20jkqCu"
      }
    },
    {
      "cell_type": "markdown",
      "source": [
        "code was modified and adapted from https://github.com/Data-Monkey/GTFS-NetworkX/blob/master/GTFStoGraph.py\n"
      ],
      "metadata": {
        "id": "5OiiY2Ct3wcj"
      }
    },
    {
      "cell_type": "code",
      "execution_count": null,
      "metadata": {
        "colab": {
          "base_uri": "https://localhost:8080/"
        },
        "id": "KptiYTC-ghqj",
        "outputId": "ea73fd6a-c17c-40ca-8e2c-e450bb5277ab"
      },
      "outputs": [
        {
          "output_type": "stream",
          "name": "stdout",
          "text": [
            "routes 76\n",
            "trips 8612\n",
            "stops 3355\n",
            "stops 3277\n",
            "edges 3706\n",
            "Nodes: 3158\n",
            "Edges: 3656\n",
            "Graph written to gtfs_vta_network.gml\n"
          ]
        }
      ],
      "source": [
        "\"\"\"\n",
        "Created on Tue May  8 17:48:55 2018\n",
        "\n",
        "@author: roland\n",
        "\n",
        "inspired by https://github.com/paulgb/gtfs-gexf/blob/master/transform.py\n",
        "\"\"\"\n",
        "\n",
        "\n",
        "#Import Packages\n",
        "import networkx as nx\n",
        "import matplotlib.pyplot as plt\n",
        "import cartopy.crs as ccrs\n",
        "from csv import DictReader\n",
        "from itertools import groupby\n",
        "import cartopy.feature as cfeature\n",
        "\n",
        "#Create file for storage\n",
        "TRIPS_FILE = 'trips.txt'\n",
        "ROUTES_FILE = 'routes.txt'\n",
        "STOPS_FILE = 'stops.txt'\n",
        "\n",
        "INCLUDE_AGENCIES=['VTA']\n",
        "\n",
        "IGNORE_ROUTE=[]\n",
        "\n",
        "G = nx.MultiGraph()\n",
        "\n",
        "def get_stop_id(stop_id):\n",
        "    \"\"\" translate stop_id to parent_stop_id\n",
        "        if available\n",
        "    \"\"\"\n",
        "    if STOPS[stop_id]['parent_station'] == '':\n",
        "        return stop_id\n",
        "    else:\n",
        "        return STOPS[stop_id]['parent_station']\n",
        "\n",
        "\n",
        "def add_stop_to_graph(G, stop_id):\n",
        "    \"\"\" add stop as new node to graph\n",
        "    \"\"\"\n",
        "    #lookup details of the stop (parent stop if available)\n",
        "    node = STOPS[get_stop_id(stop_id)]\n",
        "\n",
        "    if node['stop_id'] not in G.nodes:\n",
        "        G.add_node(node['stop_id'],\n",
        "                   stop_name = node['stop_name'],\n",
        "                   lon = float(node['stop_lon']),\n",
        "                   lat = float(node['stop_lat']))\n",
        "    return G\n",
        "\n",
        "def add_edge_to_graph(G, from_id, to_id, route_long_name):\n",
        "    \"\"\" add edge to graph\n",
        "        adding the route long name as a key\n",
        "        if the edge and key exist, increment the count\n",
        "    \"\"\"\n",
        "    edge = G.get_edge_data(get_stop_id(from_id), get_stop_id(to_id),route_long_name, default = 0)\n",
        "    if edge == 0:\n",
        "        G.add_edge(get_stop_id(from_id), get_stop_id(to_id),\n",
        "                   key=route_long_name,\n",
        "                   count=1)\n",
        "    else:\n",
        "        G.add_edge(get_stop_id(from_id), get_stop_id(to_id),\n",
        "                   key=route_long_name,\n",
        "                   count=edge['count']+1)\n",
        "\n",
        "\n",
        "def load_routes(filename):\n",
        "    \"\"\" include only routes from agencies we are interested in\n",
        "    \"\"\"\n",
        "    routes_csv = DictReader(open(filename,'r'))\n",
        "    routes_dict = dict()\n",
        "    for route in routes_csv:\n",
        "        if (route['agency_id'] in INCLUDE_AGENCIES and\n",
        "            route['route_id'] not in IGNORE_ROUTE ):\n",
        "\n",
        "            routes_dict[route['route_id']] = route\n",
        "    print ('routes', len(routes_dict))\n",
        "    return routes_dict\n",
        "\n",
        "\n",
        "def load_trips(filename, routes_dict):\n",
        "    \"\"\" load trips from file\n",
        "        only include trips on routes we are interested in\n",
        "    \"\"\"\n",
        "    trips_csv = DictReader(open(filename,'r'))\n",
        "    trips_dict = dict()\n",
        "    for trip in trips_csv:\n",
        "        if trip['route_id'] in routes_dict:\n",
        "            trip['color'] = routes_dict[trip['route_id']]['route_color']\n",
        "            trip['route_long_name']=routes_dict[trip['route_id']]['route_long_name']\n",
        "            trips_dict[trip['trip_id']] = trip\n",
        "    print ('trips', len(trips_dict))\n",
        "    return trips_dict\n",
        "\n",
        "\n",
        "def load_stops(filename):\n",
        "    stops_csv = DictReader(open(filename,'r'))\n",
        "    stops_dict = dict()\n",
        "    for stop in stops_csv:\n",
        "        stops_dict[stop['stop_id']] = stop\n",
        "    print ('stops', len(stops_dict))\n",
        "    return stops_dict\n",
        "\n",
        "\n",
        "# ==============================================\n",
        "\n",
        "#Load Routes, Trips, Stops to storage file\n",
        "ROUTES = load_routes(filename=ROUTES_FILE)\n",
        "TRIPS = load_trips(filename=TRIPS_FILE, routes_dict=ROUTES)\n",
        "STOPS = load_stops(filename=STOPS_FILE)\n",
        "\n",
        "stop_times_csv = DictReader(open('stop_times.txt','r'))\n",
        "\n",
        "stops = set()\n",
        "edges = dict()\n",
        "for trip_id, stop_time_iter in groupby(stop_times_csv, lambda stop_time: stop_time['trip_id']):\n",
        "    if trip_id in TRIPS:\n",
        "        trip = TRIPS[trip_id]\n",
        "        prev_stop = next(stop_time_iter)['stop_id']\n",
        "        stops.add(prev_stop)\n",
        "        for stop_time in stop_time_iter:\n",
        "            stop = stop_time['stop_id']\n",
        "            edge = (prev_stop, stop)\n",
        "            edges[edge] = trip['route_long_name']\n",
        "            stops.add(stop)\n",
        "            prev_stop = stop\n",
        "print ('stops', len(stops))\n",
        "print ('edges', len(edges))\n",
        "\n",
        "for stop_id in STOPS:\n",
        "    if stop_id in stops:\n",
        "       add_stop_to_graph(G, stop_id)\n",
        "print('Nodes:', G.number_of_nodes() )\n",
        "\n",
        "for (start_stop_id, end_stop_id), route_long_name in edges.items():\n",
        "    add_edge_to_graph(G,\n",
        "                      from_id = start_stop_id,\n",
        "                      to_id = end_stop_id,\n",
        "                      route_long_name=route_long_name)\n",
        "print('Edges:', G.number_of_edges() )\n",
        "\n",
        "deg = nx.degree(G)\n",
        "labels = {stop_id: G.nodes[stop_id]['stop_name'] if deg[stop_id] >= 0 else ''\n",
        "          for stop_id in G.nodes}\n",
        "\n",
        "pos = {stop_id: (G.nodes[stop_id]['lon'], G.nodes[stop_id]['lat'])\n",
        "       for stop_id in G.nodes}\n",
        "\n",
        "nx.write_gml(G, \"gtfs_vta_network_data.gml\")\n",
        "print(\"Graph written to gtfs_vta_network.gml\")\n",
        "\n",
        "plt.show()"
      ]
    },
    {
      "cell_type": "markdown",
      "source": [
        "# Getting the fully connected componenents"
      ],
      "metadata": {
        "id": "vj2SHZFEkxwc"
      }
    },
    {
      "cell_type": "code",
      "source": [
        "#Check if the graph is fully connected\n",
        "print(nx.is_connected(G))\n",
        "print(nx.number_connected_components(G))\n",
        "\n",
        "#print out the connected components\n",
        "components = (nx.connected_components(G))\n",
        "\n",
        "#make a graph out of each connected component\n",
        "graphs = [G.subgraph(c) for c in components]\n",
        "\n",
        "#write each graph to gml\n",
        "for i, g in enumerate(graphs):\n",
        "    nx.write_gml(g, f\"graph_connected_components_{i}.gml\")\n"
      ],
      "metadata": {
        "colab": {
          "base_uri": "https://localhost:8080/"
        },
        "id": "SHhmyqKljtix",
        "outputId": "c86f2f26-a814-4b10-9652-a324e8bca895"
      },
      "execution_count": null,
      "outputs": [
        {
          "output_type": "stream",
          "name": "stdout",
          "text": [
            "False\n",
            "2\n"
          ]
        }
      ]
    },
    {
      "cell_type": "markdown",
      "source": [
        "# Computing centrality measures"
      ],
      "metadata": {
        "id": "oaBorcIXk71s"
      }
    },
    {
      "cell_type": "code",
      "source": [
        "#Computing betweeness, degree and closeness centrailtiy of G\n",
        "betweenness = nx.betweenness_centrality(G)\n",
        "degree = nx.degree_centrality(G)\n",
        "closeness = nx.closeness_centrality(G)\n",
        "\n",
        "# Calculate maximum nodes and values for each centrality\n",
        "max_betweenness_node = max(betweenness, key=betweenness.get)\n",
        "max_betweenness_value = betweenness[max_betweenness_node]\n",
        "\n",
        "max_degree_node = max(degree, key=degree.get)\n",
        "max_degree_value = degree[max_degree_node]\n",
        "\n",
        "max_closeness_node = max(closeness, key=closeness.get)\n",
        "max_closeness_value = closeness[max_closeness_node]\n",
        "\n",
        "# Print the results\n",
        "print(\"Betweenness centrality:\", max_betweenness_node, max_betweenness_value)\n",
        "print(\"Degree centrality:\", max_degree_node, max_degree_value)\n",
        "print(\"Closeness centrality:\", max_closeness_node, max_closeness_value)"
      ],
      "metadata": {
        "colab": {
          "base_uri": "https://localhost:8080/"
        },
        "id": "jhBRk6_kkn1k",
        "outputId": "82e92ba8-8c65-4429-b86d-53d098c8ba47"
      },
      "execution_count": null,
      "outputs": [
        {
          "output_type": "stream",
          "name": "stdout",
          "text": [
            "Betweenness centrality: 811 0.2539401752685307\n",
            "Degree centrality: PS_MBRT 0.008552423186569527\n",
            "Closeness centrality: 811 0.06868463551469987\n"
          ]
        }
      ]
    },
    {
      "cell_type": "code",
      "source": [
        "bridges = list(nx.bridges(G))\n",
        "print(\"Bridges:\", bridges)\n",
        "\n",
        "# Access edge attributes for each bridge\n",
        "for edge in bridges:\n",
        "    u, v = edge  # Unpack the nodes of the edge\n",
        "    attributes = G[u][v]  # Access the attributes of the edge\n",
        "    print(f\"Attributes of edge {edge}: {attributes}\")"
      ],
      "metadata": {
        "colab": {
          "base_uri": "https://localhost:8080/"
        },
        "id": "cn_hGl0Gwhg7",
        "outputId": "a34127ad-21a8-4e02-8199-0b5a4fd96243",
        "collapsed": true
      },
      "execution_count": null,
      "outputs": [
        {
          "output_type": "stream",
          "name": "stdout",
          "text": [
            "Bridges: [('336', '4440'), ('413', '5515'), ('439', '5516'), ('611', '5463'), ('613', '614'), ('614', '5464'), ('1123', '3694'), ('1904', '5473'), ('1904', '1905'), ('1920', '5726'), ('1920', '1921'), ('1921', '1922'), ('1922', '5473'), ('1972', '4553'), ('3628', '3629'), ('3629', '4657'), ('3630', '4657'), ('3630', '3631'), ('3631', '3632'), ('3632', '3633'), ('3633', '3634'), ('3634', '3635'), ('3635', '3636'), ('3636', '3637'), ('3637', '3638'), ('3656', '3657'), ('3657', '3658'), ('3658', '3659'), ('3659', '3660'), ('3660', '3661'), ('3661', '3662'), ('3662', '3663'), ('3663', '3664'), ('3664', '3665'), ('3665', '3666'), ('3666', '3667'), ('4117', '4181'), ('4118', '5723'), ('4241', '4242'), ('4242', '4243'), ('4332', '4333'), ('4333', '4334'), ('4334', '4335'), ('4440', '4441'), ('4441', '4442'), ('4443', '4444'), ('4444', '4445'), ('4445', '4446'), ('4553', '5060'), ('4555', '5060'), ('4555', '4556'), ('4556', '4557'), ('PS_OHLO', 'PS_BLSM'), ('PS_OHLO', 'PS_BRNM'), ('PS_TRSA', 'PS_CTTL'), ('PS_CTTL', 'PS_SNLL'), ('PS_SNLL', 'PS_BLSM'), ('PS_BRNM', 'PS_CPTL'), ('PS_CPTL', 'PS_CURT'), ('PS_CURT', 'PS_TAMN'), ('PS_TAMN', 'PS_VIRG'), ('PS_VIRG', 'PS_CDMS'), ('PS_CDMS', 'PS_CONV'), ('PS_CONV', 'PS_SFND'), ('PS_JAPN', 'PS_CIVC'), ('PS_MVTC', 'PS_WHIS'), ('PS_WHIS', 'PS_MIDD'), ('PS_MIDD', 'PS_NASA'), ('PS_NASA', 'PS_MOFF'), ('PS_LOCK', 'PS_MOFF'), ('PS_LOCK', 'PS_BORR'), ('PS_BORR', 'PS_CRSS'), ('PS_CRSS', 'PS_FAIR'), ('PS_FAIR', 'PS_VIEN'), ('PS_VIEN', 'PS_REAM'), ('PS_REAM', 'PS_OLDI'), ('PS_OLDI', 'PS_GRAM'), ('PS_OLDI', '5866'), ('PS_CISC', 'PS_ALDR'), ('PS_ALDR', 'PS_GRML'), ('PS_GRML', 'PS_MILP'), ('PS_MILP', 'PS_CROP'), ('PS_CROP', 'PS_HOST'), ('PS_HOST', 'PS_BRRS'), ('PS_BRRS', 'PS_PENC'), ('PS_PENC', 'PS_MKEE'), ('PS_MKEE', 'PS_ALUM'), ('PS_DIRD', 'PS_RACE'), ('PS_DIRD', 'PS_SFND'), ('PS_RACE', 'PS_FRTD'), ('PS_FRTD', 'PS_BASC'), ('PS_BASC', 'PS_HAML'), ('PS_HAML', 'PS_CMBL'), ('PS_CMBL', 'PS_WINC'), ('5463', '5516'), ('5464', '5515')]\n",
            "Attributes of edge ('336', '4440'): {'Eastridge - Stanford Research Park': {'count': 1}}\n",
            "Attributes of edge ('413', '5515'): {'Dtwn SJ - Senter & Monterey via Senter': {'count': 1}}\n",
            "Attributes of edge ('439', '5516'): {'Dtwn SJ - Senter & Monterey via Senter': {'count': 1}}\n",
            "Attributes of edge ('611', '5463'): {'Dtwn SJ - Senter & Monterey via Senter': {'count': 1}}\n",
            "Attributes of edge ('613', '614'): {'Dtwn SJ - Senter & Monterey via Senter': {'count': 1}}\n",
            "Attributes of edge ('614', '5464'): {'Dtwn SJ - Senter & Monterey via Senter': {'count': 1}}\n",
            "Attributes of edge ('1123', '3694'): {'2nd & Santa Clara - Santa Teresa': {'count': 1}}\n",
            "Attributes of edge ('1904', '5473'): {'South Sunnyvale': {'count': 1}}\n",
            "Attributes of edge ('1904', '1905'): {'South Sunnyvale': {'count': 1}}\n",
            "Attributes of edge ('1920', '5726'): {'South Sunnyvale': {'count': 1}}\n",
            "Attributes of edge ('1920', '1921'): {'South Sunnyvale': {'count': 1}}\n",
            "Attributes of edge ('1921', '1922'): {'South Sunnyvale': {'count': 1}}\n",
            "Attributes of edge ('1922', '5473'): {'South Sunnyvale': {'count': 1}}\n",
            "Attributes of edge ('1972', '4553'): {'South Sunnyvale': {'count': 1}}\n",
            "Attributes of edge ('3628', '3629'): {'Milpitas HS - Yellowstone & Butano': {'count': 1}}\n",
            "Attributes of edge ('3629', '4657'): {'Milpitas HS - Yellowstone & Butano': {'count': 1}}\n",
            "Attributes of edge ('3630', '4657'): {'Milpitas HS - Yellowstone & Butano': {'count': 1}}\n",
            "Attributes of edge ('3630', '3631'): {'Milpitas HS - Yellowstone & Butano': {'count': 1}}\n",
            "Attributes of edge ('3631', '3632'): {'Milpitas HS - Yellowstone & Butano': {'count': 1}}\n",
            "Attributes of edge ('3632', '3633'): {'Milpitas HS - Yellowstone & Butano': {'count': 1}}\n",
            "Attributes of edge ('3633', '3634'): {'Milpitas HS - Yellowstone & Butano': {'count': 1}}\n",
            "Attributes of edge ('3634', '3635'): {'Milpitas HS - Yellowstone & Butano': {'count': 1}}\n",
            "Attributes of edge ('3635', '3636'): {'Milpitas HS - Yellowstone & Butano': {'count': 1}}\n",
            "Attributes of edge ('3636', '3637'): {'Milpitas HS - Yellowstone & Butano': {'count': 1}}\n",
            "Attributes of edge ('3637', '3638'): {'Milpitas HS - Yellowstone & Butano': {'count': 1}}\n",
            "Attributes of edge ('3656', '3657'): {'Milpitas HS - Yellowstone & Butano': {'count': 1}}\n",
            "Attributes of edge ('3657', '3658'): {'Milpitas HS - Yellowstone & Butano': {'count': 1}}\n",
            "Attributes of edge ('3658', '3659'): {'Milpitas HS - Yellowstone & Butano': {'count': 1}}\n",
            "Attributes of edge ('3659', '3660'): {'Milpitas HS - Yellowstone & Butano': {'count': 1}}\n",
            "Attributes of edge ('3660', '3661'): {'Milpitas HS - Yellowstone & Butano': {'count': 1}}\n",
            "Attributes of edge ('3661', '3662'): {'Milpitas HS - Yellowstone & Butano': {'count': 1}}\n",
            "Attributes of edge ('3662', '3663'): {'Milpitas HS - Yellowstone & Butano': {'count': 1}}\n",
            "Attributes of edge ('3663', '3664'): {'Milpitas HS - Yellowstone & Butano': {'count': 1}}\n",
            "Attributes of edge ('3664', '3665'): {'Milpitas HS - Yellowstone & Butano': {'count': 1}}\n",
            "Attributes of edge ('3665', '3666'): {'Milpitas HS - Yellowstone & Butano': {'count': 1}}\n",
            "Attributes of edge ('3666', '3667'): {'Milpitas HS - Yellowstone & Butano': {'count': 1}}\n",
            "Attributes of edge ('4117', '4181'): {'Willow Glen HS - 1st & Keyes': {'count': 1}}\n",
            "Attributes of edge ('4118', '5723'): {'Willow Glen HS - 1st & Keyes': {'count': 1}}\n",
            "Attributes of edge ('4241', '4242'): {'Gunn HS - Louis & Fielding': {'count': 1}}\n",
            "Attributes of edge ('4242', '4243'): {'Gunn HS - Louis & Fielding': {'count': 1}}\n",
            "Attributes of edge ('4332', '4333'): {'Gunn HS - Middlefield & Colorado via Waverley': {'count': 1}}\n",
            "Attributes of edge ('4333', '4334'): {'Gunn HS - Middlefield & Colorado via Waverley': {'count': 1}}\n",
            "Attributes of edge ('4334', '4335'): {'Gunn HS - Middlefield & Colorado via Waverley': {'count': 1}}\n",
            "Attributes of edge ('4440', '4441'): {'Eastridge - Stanford Research Park': {'count': 1}}\n",
            "Attributes of edge ('4441', '4442'): {'Eastridge - Stanford Research Park': {'count': 1}}\n",
            "Attributes of edge ('4443', '4444'): {'Eastridge - Stanford Research Park': {'count': 1}}\n",
            "Attributes of edge ('4444', '4445'): {'Eastridge - Stanford Research Park': {'count': 1}}\n",
            "Attributes of edge ('4445', '4446'): {'Eastridge - Stanford Research Park': {'count': 1}}\n",
            "Attributes of edge ('4553', '5060'): {'South Sunnyvale': {'count': 1}}\n",
            "Attributes of edge ('4555', '5060'): {'South Sunnyvale': {'count': 1}}\n",
            "Attributes of edge ('4555', '4556'): {'South Sunnyvale': {'count': 1}}\n",
            "Attributes of edge ('4556', '4557'): {'South Sunnyvale': {'count': 1}}\n",
            "Attributes of edge ('PS_OHLO', 'PS_BLSM'): {'Event-Blue Line': {'count': 2}}\n",
            "Attributes of edge ('PS_OHLO', 'PS_BRNM'): {'Event-Blue Line': {'count': 2}}\n",
            "Attributes of edge ('PS_TRSA', 'PS_CTTL'): {'Event-Blue Line': {'count': 2}}\n",
            "Attributes of edge ('PS_CTTL', 'PS_SNLL'): {'Event-Blue Line': {'count': 2}}\n",
            "Attributes of edge ('PS_SNLL', 'PS_BLSM'): {'Event-Blue Line': {'count': 2}}\n",
            "Attributes of edge ('PS_BRNM', 'PS_CPTL'): {'Event-Blue Line': {'count': 2}}\n",
            "Attributes of edge ('PS_CPTL', 'PS_CURT'): {'Event-Blue Line': {'count': 2}}\n",
            "Attributes of edge ('PS_CURT', 'PS_TAMN'): {'Event-Blue Line': {'count': 2}}\n",
            "Attributes of edge ('PS_TAMN', 'PS_VIRG'): {'Event-Blue Line': {'count': 2}}\n",
            "Attributes of edge ('PS_VIRG', 'PS_CDMS'): {'Event-Blue Line': {'count': 2}}\n",
            "Attributes of edge ('PS_CDMS', 'PS_CONV'): {'Event-Blue Line': {'count': 2}}\n",
            "Attributes of edge ('PS_CONV', 'PS_SFND'): {'Event-Green Line': {'count': 2}}\n",
            "Attributes of edge ('PS_JAPN', 'PS_CIVC'): {'Event-Green Line': {'count': 2}}\n",
            "Attributes of edge ('PS_MVTC', 'PS_WHIS'): {'Event-Orange Line': {'count': 2}}\n",
            "Attributes of edge ('PS_WHIS', 'PS_MIDD'): {'Event-Orange Line': {'count': 2}}\n",
            "Attributes of edge ('PS_MIDD', 'PS_NASA'): {'Event-Orange Line': {'count': 2}}\n",
            "Attributes of edge ('PS_NASA', 'PS_MOFF'): {'Event-Orange Line': {'count': 2}}\n",
            "Attributes of edge ('PS_LOCK', 'PS_MOFF'): {'Event-Orange Line': {'count': 2}}\n",
            "Attributes of edge ('PS_LOCK', 'PS_BORR'): {'Event-Orange Line': {'count': 2}}\n",
            "Attributes of edge ('PS_BORR', 'PS_CRSS'): {'Event-Orange Line': {'count': 2}}\n",
            "Attributes of edge ('PS_CRSS', 'PS_FAIR'): {'Event-Orange Line': {'count': 2}}\n",
            "Attributes of edge ('PS_FAIR', 'PS_VIEN'): {'Event-Orange Line': {'count': 2}}\n",
            "Attributes of edge ('PS_VIEN', 'PS_REAM'): {'Event-Orange Line': {'count': 2}}\n",
            "Attributes of edge ('PS_REAM', 'PS_OLDI'): {'Event-Orange Line': {'count': 2}}\n",
            "Attributes of edge ('PS_OLDI', 'PS_GRAM'): {'Event-Orange Line': {'count': 2}}\n",
            "Attributes of edge ('PS_OLDI', '5866'): {'Old Ironsides - Winchester': {'count': 1}}\n",
            "Attributes of edge ('PS_CISC', 'PS_ALDR'): {'Event-Orange Line': {'count': 2}}\n",
            "Attributes of edge ('PS_ALDR', 'PS_GRML'): {'Event-Orange Line': {'count': 2}}\n",
            "Attributes of edge ('PS_GRML', 'PS_MILP'): {'Event-Orange Line': {'count': 2}}\n",
            "Attributes of edge ('PS_MILP', 'PS_CROP'): {'Event-Orange Line': {'count': 2}}\n",
            "Attributes of edge ('PS_CROP', 'PS_HOST'): {'Event-Orange Line': {'count': 2}}\n",
            "Attributes of edge ('PS_HOST', 'PS_BRRS'): {'Event-Orange Line': {'count': 2}}\n",
            "Attributes of edge ('PS_BRRS', 'PS_PENC'): {'Event-Orange Line': {'count': 2}}\n",
            "Attributes of edge ('PS_PENC', 'PS_MKEE'): {'Event-Orange Line': {'count': 2}}\n",
            "Attributes of edge ('PS_MKEE', 'PS_ALUM'): {'Event-Orange Line': {'count': 2}}\n",
            "Attributes of edge ('PS_DIRD', 'PS_RACE'): {'Event-Green Line': {'count': 2}}\n",
            "Attributes of edge ('PS_DIRD', 'PS_SFND'): {'Event-Green Line': {'count': 2}}\n",
            "Attributes of edge ('PS_RACE', 'PS_FRTD'): {'Event-Green Line': {'count': 2}}\n",
            "Attributes of edge ('PS_FRTD', 'PS_BASC'): {'Event-Green Line': {'count': 2}}\n",
            "Attributes of edge ('PS_BASC', 'PS_HAML'): {'Event-Green Line': {'count': 2}}\n",
            "Attributes of edge ('PS_HAML', 'PS_CMBL'): {'Event-Green Line': {'count': 2}}\n",
            "Attributes of edge ('PS_CMBL', 'PS_WINC'): {'Event-Green Line': {'count': 2}}\n",
            "Attributes of edge ('5463', '5516'): {'Dtwn SJ - Senter & Monterey via Senter': {'count': 1}}\n",
            "Attributes of edge ('5464', '5515'): {'Dtwn SJ - Senter & Monterey via Senter': {'count': 1}}\n"
          ]
        }
      ]
    },
    {
      "cell_type": "markdown",
      "source": [
        "# Random Node removal"
      ],
      "metadata": {
        "id": "piJgKvVVwGK4"
      }
    },
    {
      "cell_type": "code",
      "source": [
        "#Import packages\n",
        "import random\n",
        "\n",
        "def remove_random_nodes_and_calculate(graph, percentage_to_remove=0.1):\n",
        "\n",
        "    random.seed(42)\n",
        "\n",
        "    # Create a copy of the graph to preserve the original\n",
        "    graph_copy = graph.copy()\n",
        "\n",
        "    # Calculate the number of nodes to remove (ensuring at least one is removed)\n",
        "    num_nodes_to_remove = max(1, int(len(graph_copy.nodes) * percentage_to_remove))\n",
        "\n",
        "    # Randomly select nodes to remove\n",
        "    nodes_to_remove = random.sample(list(graph_copy.nodes), num_nodes_to_remove)\n",
        "\n",
        "    # Print the nodes being removed\n",
        "    print(f\"Nodes removed: {nodes_to_remove}\")\n",
        "\n",
        "    # Remove the selected nodes from the graph\n",
        "    graph_copy.remove_nodes_from(nodes_to_remove)\n",
        "\n",
        "    # Print the current graph state\n",
        "    print(f\"Graph now has {graph_copy.number_of_nodes()} nodes and {graph_copy.number_of_edges()} edges.\")\n",
        "\n",
        "    # Perform the calculation using the provided function\n",
        "    calculation(graph_copy)\n",
        "\n",
        "remove_random_nodes_and_calculate(G)"
      ],
      "metadata": {
        "colab": {
          "base_uri": "https://localhost:8080/"
        },
        "id": "ce9kOtDYgzj0",
        "outputId": "3ccea435-053f-4f08-e1e3-6303e0497496"
      },
      "execution_count": null,
      "outputs": [
        {
          "output_type": "stream",
          "name": "stdout",
          "text": [
            "Nodes removed: ['4422', '722', 'PS_GILR', '5797', '1889', '1587', '1391', '873', '5752', '673', 'PS_BORR', '5781', '3620', '593', '3915', '2852', '293', '272', '626', '1354', '1506', '3419', '4023', '245', '3694', '1207', '5595', '4485', '5427', '3619', '2835', '1372', '2997', '3910', '1908', '53', '5962', '968', 'PS_WITC', '2856', '2368', '1907', '949', '1331', '6001', '2345', '672', '621', '2601', '646', '2497', '2390', '4043', '1751', '371', '5695', '3073', '3574', '798', '2589', '552', '3655', '2002', '4335', '4190', '2509', '3782', '1155', '5503', '496', '381', '4639', '1435', '1965', '556', '1507', '666', '3018', '4388', '2522', '982', '2545', '2468', '1285', 'PS_TAMN', '1818', '5459', '5006', '4466', '504', '4104', '4385', '1025', '3565', '5687', '1586', '985', '3088', '2599', '1832', '4424', '5059', '3675', '1366', '5029', '2246', '6054', '438', '1464', '294', '2184', '2743', '1821', '483', '1297', '3727', '5608', '2180', '1303', '4553', '3390', '2716', '4437', '3070', '890', '1757', '1618', '5866', '3697', '3592', '1744', '5898', '3840', '2885', '3814', '2735', '2510', '1365', '868', '3438', '3365', '613', '5943', '388', '711', 'PS_CULR', '4331', '970', '4926', '2853', '3954', '472', '2642', '2619', '3952', '3192', '3542', '1661', '3660', '101', '4884', '5625', '742', '4977', '3582', '5919', '1817', '6055', '4428', '2004', '2914', '962', '3019', '38', '5632', '5620', '1746', '3396', '5976', '1086', '3430', '697', '4304', '2034', '4420', '4103', '2561', '5983', '976', '3594', '3547', '11', '3974', '2245', '3305', '210', '724', '2514', '2129', '1559', '446', '1568', '583', '5708', '3288', '495', '5969', '3557', '6037', '803', '816', '4627', '3231', '3639', '992', '1772', '3528', '4088', '2862', '1300', '3593', '5941', '5696', '5220', '1237', '5579', '2168', '2734', '4749', '2559', '2928', '3477', '3008', '780', '1624', '1402', '474', '2354', '217', '3905', '3662', '1472', '3906', '56', '502', '5536', '4345', '451', '1463', '488', '286', '2311', '3459', '1551', '1909', 'PS_SNLL', '3286', '1327', '837', '5637', '3743', '3767', '3217', '1578', '3218', '2773', '1147', '632', '648', '4588', '2896', '2463', '2863', '2791', '3186', '426', 'PS_BONA', '4523', '4451', '656', '459', '2751', '5661', '2364', '709', '1627', '1152', '2995', '876', '1108', '3089', '1650', '527', '2965', '3642', '654', '409', '4508', '3599', '123', '625', '5933', '1545', '1000', '2770', '3287', '3266', '1317', '2742', '450', '990', '2591', '33', '2694', '1780']\n",
            "Graph now has 2843 nodes and 2972 edges.\n",
            "Average Shortest Path Length: 26.964291037465266\n",
            "Node Connectivity: 0\n",
            "Size of Largest Connected Component: 2127\n",
            "Global Efficiency: 0.027546452029767368\n",
            "Diameter: 96\n",
            "Clustering Coefficient: 0.019261100020860834\n"
          ]
        }
      ]
    },
    {
      "cell_type": "markdown",
      "source": [
        "gets the metrics for a given graph"
      ],
      "metadata": {
        "id": "HvPD8FFZ5OwA"
      }
    },
    {
      "cell_type": "code",
      "source": [
        "def calculation(g):\n",
        "    if nx.is_directed(g):\n",
        "        # Use weakly connected components for directed graphs\n",
        "        largest_component = max(nx.weakly_connected_components(g), key=len)\n",
        "    else:\n",
        "        # Use connected components for undirected graphs\n",
        "        largest_component = max(nx.connected_components(g), key=len)\n",
        "\n",
        "    # Create a subgraph for the largest component\n",
        "    largest_component_subgraph = g.subgraph(largest_component)\n",
        "\n",
        "    # Calculate the metrics\n",
        "    average_shortest_path_length = nx.average_shortest_path_length(largest_component_subgraph)\n",
        "    connectivity = nx.node_connectivity(g)\n",
        "    global_efficiency = nx.global_efficiency(g)\n",
        "    diameter = nx.diameter(largest_component_subgraph)\n",
        "\n",
        "    # Convert to simple graph before calculating clustering coefficient\n",
        "    g_simple = nx.Graph(g)  # Create a simple graph from the multigraph\n",
        "    clustering_coefficient = nx.average_clustering(g_simple)  # Calculate on the simple graph\n",
        "\n",
        "    # Print the results\n",
        "    print(f\"Average Shortest Path Length: {average_shortest_path_length}\")\n",
        "    print(f\"Node Connectivity: {connectivity}\")\n",
        "    print(f\"Size of Largest Connected Component: {len(largest_component)}\")\n",
        "    print(f\"Global Efficiency: {global_efficiency}\")\n",
        "    print(f\"Diameter: {diameter}\")\n",
        "    print(f\"Clustering Coefficient: {clustering_coefficient}\")\n",
        "\n"
      ],
      "metadata": {
        "id": "FdQ9xXEh3a9m"
      },
      "execution_count": null,
      "outputs": []
    },
    {
      "cell_type": "code",
      "source": [
        "def get_top_betweenness_nodes(graph, percentage_to_remove=0.1):\n",
        "\n",
        "    # Calculate the number of nodes to remove based on the percentage\n",
        "    num_nodes_to_remove = max(1, int(len(graph.nodes) * percentage_to_remove))  # Ensure at least 1 node is removed\n",
        "\n",
        "    # Create a copy of the graph to preserve the original\n",
        "    graph_copy = graph.copy()\n",
        "\n",
        "    # Calculate betweenness centrality for all nodes in the graph\n",
        "    betweenness = nx.betweenness_centrality(graph_copy)\n",
        "\n",
        "    # Sort nodes by their betweenness centrality, and get the top ones\n",
        "    top_nodes_betweenness = sorted(betweenness.items(), key=lambda item: item[1], reverse=True)[:num_nodes_to_remove]\n",
        "\n",
        "    # Extract the node names from the sorted list of betweenness centrality\n",
        "    top_nodes_betweenness = [node[0] for node in top_nodes_betweenness]\n",
        "\n",
        "    # Print the nodes being removed\n",
        "    print(f\"Nodes to remove based on betweenness centrality: {top_nodes_betweenness}\")\n",
        "\n",
        "    return top_nodes_betweenness"
      ],
      "metadata": {
        "id": "onTNBgjMQ2G9"
      },
      "execution_count": null,
      "outputs": []
    },
    {
      "cell_type": "code",
      "source": [
        "def get_top_closeness_nodes(graph, percentage_to_remove=0.1):\n",
        "\n",
        "    # Calculate the number of nodes to remove based on the percentage\n",
        "    num_nodes_to_remove = max(1, int(len(graph.nodes) * percentage_to_remove))  # Ensure at least 1 node is removed\n",
        "\n",
        "    # Create a copy of the graph to preserve the original\n",
        "    graph_copy = graph.copy()\n",
        "\n",
        "    # Calculate closeness centrality for all nodes in the graph\n",
        "    closeness = nx.closeness_centrality(graph_copy)\n",
        "\n",
        "    # Sort nodes by their closeness centrality, and get the top ones\n",
        "    top_nodes_closeness = sorted(closeness.items(), key=lambda item: item[1], reverse=True)[:num_nodes_to_remove]\n",
        "\n",
        "    # Extract the node names from the sorted list of closeness centrality\n",
        "    top_nodes_closeness = [node[0] for node in top_nodes_closeness]\n",
        "\n",
        "    # Print the nodes being removed\n",
        "    print(f\"Nodes to remove based on closeness centrality: {top_nodes_closeness}\")\n",
        "\n",
        "    return top_nodes_closeness"
      ],
      "metadata": {
        "id": "oZrTACCeRAST"
      },
      "execution_count": null,
      "outputs": []
    },
    {
      "cell_type": "code",
      "source": [
        "def get_top_degree_nodes(graph, percentage_to_remove=0.1):\n",
        "\n",
        "    # Calculate the number of nodes to remove based on the percentage\n",
        "    num_nodes_to_remove = max(1, int(len(graph.nodes) * percentage_to_remove))  # Ensure at least 1 node is removed\n",
        "\n",
        "    # Create a copy of the graph to preserve the original\n",
        "    graph_copy = graph.copy()\n",
        "\n",
        "    # Calculate degree centrality for all nodes in the graph\n",
        "    degree_centrality = nx.degree_centrality(graph_copy)\n",
        "\n",
        "    # Sort nodes by their degree centrality, and get the top ones\n",
        "    top_nodes_degree = sorted(degree_centrality.items(), key=lambda item: item[1], reverse=True)[:num_nodes_to_remove]\n",
        "\n",
        "    # Extract the node names from the sorted list of degree centrality\n",
        "    top_nodes_degree = [node[0] for node in top_nodes_degree]\n",
        "\n",
        "    # Print the nodes being removed\n",
        "    print(f\"Nodes to remove based on degree centrality: {top_nodes_degree}\")\n",
        "\n",
        "    return top_nodes_degree"
      ],
      "metadata": {
        "id": "0u_g-bL5RFVD"
      },
      "execution_count": null,
      "outputs": []
    },
    {
      "cell_type": "markdown",
      "source": [
        "# Targeted Removal for Degree"
      ],
      "metadata": {
        "id": "2hVOj9etwX2p"
      }
    },
    {
      "cell_type": "code",
      "source": [
        "def targeted_node_removal_and_calculate(graph, percentage_to_remove=0.1):\n",
        "\n",
        "    # Extract node names from the list of tuples\n",
        "    top_nodes = get_top_degree_nodes(graph, percentage_to_remove)\n",
        "\n",
        "    # Create a copy of the graph to preserve the original\n",
        "    graph_copy = graph.copy()\n",
        "\n",
        "    # Remove the selected nodes from the graph\n",
        "    graph_copy.remove_nodes_from(top_nodes)\n",
        "\n",
        "    # Print the new number of nodes and edges\n",
        "    print(f\"Graph now has {graph_copy.number_of_nodes()} nodes and {graph_copy.number_of_edges()} edges.\")\n",
        "\n",
        "    # Call the calculation function to get the robustness metrics\n",
        "    calculation(graph_copy)\n",
        "\n",
        "targeted_node_removal_and_calculate(G)"
      ],
      "metadata": {
        "colab": {
          "base_uri": "https://localhost:8080/"
        },
        "id": "kXM6LuUROPfu",
        "outputId": "f98aa1b9-15d4-46b8-ff83-0f66d1f6c9a7"
      },
      "execution_count": null,
      "outputs": [
        {
          "output_type": "stream",
          "name": "stdout",
          "text": [
            "Nodes to remove based on degree centrality: ['PS_MBRT', 'PS_ERTC', 'PS_SCTC', '4692', 'PS_BERR', 'PS_DRDN', '439', 'PS_MVCT', 'PS_GILR', 'PS_PATC', '413', 'PS_SNLS', 'PS_ARTC', 'PS_WITC', '410', '443', '3926', 'PS_LMTC', '4585', 'PS_OHLN', '335', '391', '461', '504', '565', '574', '660', '750', '811', '1124', '1715', '1716', '1782', '2523', '3358', '3417', '3468', '4338', '4578', 'PS_BAYP', 'PS_WVTC', '20', '408', '412', '494', '608', '619', '653', '661', '864', '995', '1123', '1128', '1933', '1962', '2526', '2535', '2604', '3202', '3271', '3371', '3379', '3446', '3456', '3582', '3844', '4507', 'PS_GISH', 'PS_TASM', 'PS_CHMP', '5707', '8', '166', '216', '224', '266', '330', '336', '343', '346', '347', '355', '361', '366', '368', '370', '373', '378', '382', '387', '400', '403', '418', '420', '431', '434', '444', '445', '449', '452', '464', '468', '472', '477', '480', '482', '484', '489', '500', '511', '512', '517', '567', '571', '576', '582', '586', '594', '600', '603', '607', '624', '634', '643', '646', '656', '694', '731', '736', '815', '816', '852', '855', '858', '865', '910', 'PS_CULR', '940', '1031', '1039', '1042', '1044', '1110', '1338', '1366', '1380', '1388', '1426', '1686', '1692', '1744', '1780', '1784', '1884', '1907', '1908', '1918', '1938', '1939', '1951', '1983', '2059', '2126', '2144', '2190', '2262', '2282', '2284', '2312', '2317', '2321', '2361', '2364', '2365', '2394', '2502', '2522', '2530', '2694', '2729', '2760', '2839', '3002', '3094', '3181', '3185', '3196', '3207', '3275', '3279', '3285', '3295', '3300', '3305', '3343', '3351', '3363', 'PS_STLC', '3410', '3464', '3467', '3475', '3486', '3488', '3495', '3524', '3545', '3584', '3591', '3821', '3841', '3843', '3864', '4097', '4193', '4199', '4345', '4432', '4434', '4451', '4454', '4458', '4509', '4576', '4579', '4587', '4589', '4691', 'PS_CONV', 'PS_CIVC', 'PS_METR', 'PS_KRNA', 'PS_COMP', 'PS_BONA', 'PS_ORCH', 'PS_ROAK', 'PS_LICK', '4877', '4884', '4926', '4995', '5252', '5513', '5578', '5641', '5781', '5822', '5867', '5899', '5901', '5902', '5906', '6001', '6025', '35', '46', '47', '53', '54', '55', '65', '109', '110', '112', '113', '120', '156', '157', '158', '159', '243', '247', '267', '268', '352', '354', '404', '406', '409', '411', '414', '422', '426', '438', '441', '446', '448', '462', '495', '533', '534', '543', '566', '585', '587', '617', '620', '642', '644', '651', '662', '683', '692', '698', '700', '722', '730', '737', '757', '758', '780', '808', '822', '823', '844']\n",
            "Graph now has 2843 nodes and 2556 edges.\n",
            "Average Shortest Path Length: 55.23816738816739\n",
            "Node Connectivity: 0\n",
            "Size of Largest Connected Component: 441\n",
            "Global Efficiency: 0.002786996515202886\n",
            "Diameter: 139\n",
            "Clustering Coefficient: 0.0017587055926837848\n"
          ]
        }
      ]
    },
    {
      "cell_type": "markdown",
      "source": [
        "#Targeted Removal for Betweenness Centrality"
      ],
      "metadata": {
        "id": "UtULHbAe2lhH"
      }
    },
    {
      "source": [
        "def betweenness_node_removal_and_calculate(graph, percentage_to_remove=0.1):\n",
        "\n",
        "    # Create a copy of the graph to preserve the original\n",
        "    graph_copy = graph.copy()\n",
        "\n",
        "    # Sort nodes by their betweenness centrality, and get the top ones\n",
        "    top_nodes_betweenness = get_top_betweenness_nodes(graph_copy, percentage_to_remove)\n",
        "\n",
        "    # Print the nodes being removed\n",
        "    print(f\"Nodes to remove based on betweenness centrality: {top_nodes_betweenness}\")\n",
        "\n",
        "    # Remove the selected nodes from the graph\n",
        "    graph_copy.remove_nodes_from(top_nodes_betweenness)\n",
        "\n",
        "    # Print the new number of nodes and edges\n",
        "    print(f\"Graph now has {graph_copy.number_of_nodes()} nodes and {graph_copy.number_of_edges()} edges.\")\n",
        "\n",
        "    # Call the calculation function to get the robustness metrics\n",
        "    calculation(graph_copy)\n",
        "\n",
        "betweenness_node_removal_and_calculate(G)"
      ],
      "cell_type": "code",
      "metadata": {
        "colab": {
          "base_uri": "https://localhost:8080/"
        },
        "id": "xwKZaKeR3tx6",
        "outputId": "fb4db6a3-2b04-43d8-9023-6a4f18cc7f3a"
      },
      "execution_count": null,
      "outputs": [
        {
          "output_type": "stream",
          "name": "stdout",
          "text": [
            "Nodes to remove based on betweenness centrality: ['811', 'PS_MBRT', 'PS_ARTC', 'PS_DRDN', '4457', 'PS_SNLS', '4451', '4579', '4434', '3860', '5325', '3853', '3849', '2667', '4692', '5407', '910', '6067', '6048', 'PS_SCTC', '653', 'PS_WITC', 'PS_ERTC', '3417', '1599', '3844', '1110', 'PS_OHLN', '3446', '3821', '736', '4507', '166', '403', '400', '408', '574', '3843', '4672', '4671', '6061', '2604', '1123', '1380', '410', '1377', '660', '1366', '656', '1392', '3443', '4636', '439', '4458', '2535', '571', '1118', '567', '1119', '413', '5797', '565', '216', '504', '335', '4646', '3379', '5513', 'PS_BERR', '112', '113', '1716', '494', '3456', '816', '1715', '2059', '995', '2214', '4433', '1933', '2212', '4435', 'PS_MVCT', '4436', '4342', '224', '157', '4391', '3410', '2126', '4340', '3468', '4389', '443', '4390', '156', '4341', '155', '347', '2162', '2394', '2165', '911', '2524', '855', '912', '913', '3279', '3202', '3704', '3702', '6060', '4097', 'PS_GILR', '915', '617', '916', '917', '2110', '1908', '3271', '5850', '2317', '343', '4995', '3285', '608', '5822', '500', '815', '2321', '110', '3275', '109', '1150', '3196', '355', '2526', '3207', '4876', '1962', '2760', '4578', '468', '2109', '5902', '3524', '1151', '4652', '3038', '2365', '382', '472', '1782', '3040', '4884', '3681', '864', '5901', '5696', '1338', '477', '378', '489', '4096', '5641', '480', '2262', 'PS_PATC', '3371', '484', '2235', '2234', '373', '2819', '482', '5697', '3735', '5867', '2818', '4468', '1983', '808', '2312', '3591', '2817', '370', '361', '346', '2284', '366', '2816', '2032', '368', '2694', '2705', '737', '1104', '861', '512', '2815', '4469', '1103', '2704', '4691', '2814', '2768', '3926', '1039', '4193', '1124', '1836', '354', '2813', '2769', '978', '2616', '2681', '1981', '619', '2481', '3864', '4658', '1835', '865', '4399', '2770', '750', '2618', '5695', '420', '1833', '4454', '5514', '2077', '1834', '440', '8', '114', '3100', '4400', '330', '2771', '2619', '860', '2522', '4218', '862', '5650', '4685', '3343', '4401', '4543', '2772', '2620', '3101', '2995', '4545', '5858', '918', '4679', '2525', '2773', '2774', '2621', '5856', '863', '940', '431', '2944', '115', '106', '2031', 'PS_LMTC', '449', '2233', '2622', '1206', '4875', '452', '867', '3358', '977', '2190', '3582', '3734', 'PS_STLC', '5977', '4452', '5976', '2030', '3467', '2886', '3063', '976', '975', '897', '6019', '5968', '5859', '3549', '3525', '6036', '5967', '858', '2887', '2006', '5952', '4877', '2951', '3062', '4453', '5857', '1832']\n",
            "Graph now has 2843 nodes and 2810 edges.\n",
            "Average Shortest Path Length: 57.28924596530231\n",
            "Node Connectivity: 0\n",
            "Size of Largest Connected Component: 924\n",
            "Global Efficiency: 0.005701632782809718\n",
            "Diameter: 157\n",
            "Clustering Coefficient: 0.009344589049126505\n"
          ]
        }
      ]
    },
    {
      "cell_type": "markdown",
      "source": [
        "#Targeted Removal for Closeness Centrality"
      ],
      "metadata": {
        "id": "PzoZjIdHPyLG"
      }
    },
    {
      "cell_type": "code",
      "source": [
        "def closeness_node_removal_and_calculate(graph, percentage_to_remove=0.1):\n",
        "\n",
        "    # Create a copy of the graph to preserve the original\n",
        "    graph_copy = graph.copy()\n",
        "\n",
        "    # Sort nodes by their closeness centrality, and get the top ones\n",
        "    top_nodes_closeness = get_top_closeness_nodes(graph_copy, percentage_to_remove)\n",
        "\n",
        "    # Print the nodes being removed\n",
        "    print(f\"Nodes to remove based on closeness centrality: {top_nodes_closeness}\")\n",
        "\n",
        "    # Remove the selected nodes from the graph\n",
        "    graph_copy.remove_nodes_from(top_nodes_closeness)\n",
        "\n",
        "    # Print the new number of nodes and edges\n",
        "    print(f\"Graph now has {graph_copy.number_of_nodes()} nodes and {graph_copy.number_of_edges()} edges.\")\n",
        "\n",
        "    # Call the calculation function to get the robustness metrics\n",
        "    calculation(graph_copy)\n",
        "\n",
        "closeness_node_removal_and_calculate(G)"
      ],
      "metadata": {
        "colab": {
          "base_uri": "https://localhost:8080/"
        },
        "id": "XvtOKM5t0IhY",
        "outputId": "20eeefd9-ea41-44a4-84e5-733af23674fb"
      },
      "execution_count": null,
      "outputs": [
        {
          "output_type": "stream",
          "name": "stdout",
          "text": [
            "Nodes to remove based on closeness centrality: ['811', '4451', '4579', '5407', '4457', 'PS_ARTC', '4434', 'PS_DRDN', '3821', '6067', '736', 'PS_SNLS', '3860', 'PS_ERTC', '812', '5696', '4636', '408', '410', '4450', '1884', '443', '1599', '5325', '5858', '409', '5859', '4581', '444', '4435', '3038', '3864', '3065', '446', '406', '1123', '6048', '816', '403', '3853', '5513', '2951', '574', '3073', '3024', '737', '445', '653', '1110', '735', '5514', '3188', '3292', '411', '3849', '5850', '3185', '440', '3295', '813', '3186', '3294', '5857', '3907', '3906', '53', '5856', '5707', '1231', '1264', '1229', '1862', '3817', '808', '4449', '448', '2928', '404', '400', '1119', '2667', '4436', '439', '413', '4684', '449', '442', '617', '608', 'PS_MBRT', '431', '910', '420', '814', '571', 'PS_SCTC', '619', '3040', '412', '3291', '3063', '3031', '3066', '434', '1124', '4452', '656', '5656', '1118', '418', '3694', '4433', '2957', '815', '820', '6033', '3189', '402', '576', '452', '3271', '3207', 'PS_OHLN', '734', '575', '441', '573', '3074', '3023', '5695', '3300', '651', '3213', '4387', '3844', '654', '3181', '1111', '1109', '4342', '5797', '3417', '3908', '3183', '5459', 'PS_WITC', '3905', '433', '54', '3289', '3296', '1392', '2952', '419', '4995', '1233', '2943', '1863', '1263', '50', '1228', '5983', '806', '2927', '4218', '616', '5461', '2929', '567', '5849', '3141', '2935', '3275', '5822', '399', '401', '4543', '2944', '3735', '5531', '382', '438', '3264', '5516', '414', '3191', '660', '620', '5515', '609', '3576', '4585', '3926', '5406', '1715', '468', '450', '4652', '4578', '911', '3265', '3843', '3212', '3840', '4386', '897', '3274', '733', '3288', '3206', '624', '429', '4341', '909', '995', '421', '3287', '4672', '20', '2729', '461', '391', '3279', '3681', '4166', '570', '572', '730', '393', '459', '618', '1128', '5460', 'PS_BERR', '3062', '4546', '821', '5840', '3202', '3030', '3285', '3067', '3343', '1772', '435', '3302', '2819', '2953', '657', '655', '646', '1117', '416', '2954', '3192', '2821', '582', '1716', '112', '565', '4458', '110', '1380', '4193', '578', '3910', '4388', '453', '451', '3196', '3269', '2760', '3208', '6066', '3075', '3022', '732', '739', '4340', '4545', '2958', '1782', '3298', '4385', '649', '3193', '4671', '3244', '3903', '5218', '1108', '378', '4343', '1112', '3179', '566', '607', '4454', '731', '5408', '472', '437', '2705', '2767', '5392', '4432', '3416', '5658', '55', '2706', '415', '2765', '750', '2162', '948']\n",
            "Nodes to remove based on closeness centrality: ['811', '4451', '4579', '5407', '4457', 'PS_ARTC', '4434', 'PS_DRDN', '3821', '6067', '736', 'PS_SNLS', '3860', 'PS_ERTC', '812', '5696', '4636', '408', '410', '4450', '1884', '443', '1599', '5325', '5858', '409', '5859', '4581', '444', '4435', '3038', '3864', '3065', '446', '406', '1123', '6048', '816', '403', '3853', '5513', '2951', '574', '3073', '3024', '737', '445', '653', '1110', '735', '5514', '3188', '3292', '411', '3849', '5850', '3185', '440', '3295', '813', '3186', '3294', '5857', '3907', '3906', '53', '5856', '5707', '1231', '1264', '1229', '1862', '3817', '808', '4449', '448', '2928', '404', '400', '1119', '2667', '4436', '439', '413', '4684', '449', '442', '617', '608', 'PS_MBRT', '431', '910', '420', '814', '571', 'PS_SCTC', '619', '3040', '412', '3291', '3063', '3031', '3066', '434', '1124', '4452', '656', '5656', '1118', '418', '3694', '4433', '2957', '815', '820', '6033', '3189', '402', '576', '452', '3271', '3207', 'PS_OHLN', '734', '575', '441', '573', '3074', '3023', '5695', '3300', '651', '3213', '4387', '3844', '654', '3181', '1111', '1109', '4342', '5797', '3417', '3908', '3183', '5459', 'PS_WITC', '3905', '433', '54', '3289', '3296', '1392', '2952', '419', '4995', '1233', '2943', '1863', '1263', '50', '1228', '5983', '806', '2927', '4218', '616', '5461', '2929', '567', '5849', '3141', '2935', '3275', '5822', '399', '401', '4543', '2944', '3735', '5531', '382', '438', '3264', '5516', '414', '3191', '660', '620', '5515', '609', '3576', '4585', '3926', '5406', '1715', '468', '450', '4652', '4578', '911', '3265', '3843', '3212', '3840', '4386', '897', '3274', '733', '3288', '3206', '624', '429', '4341', '909', '995', '421', '3287', '4672', '20', '2729', '461', '391', '3279', '3681', '4166', '570', '572', '730', '393', '459', '618', '1128', '5460', 'PS_BERR', '3062', '4546', '821', '5840', '3202', '3030', '3285', '3067', '3343', '1772', '435', '3302', '2819', '2953', '657', '655', '646', '1117', '416', '2954', '3192', '2821', '582', '1716', '112', '565', '4458', '110', '1380', '4193', '578', '3910', '4388', '453', '451', '3196', '3269', '2760', '3208', '6066', '3075', '3022', '732', '739', '4340', '4545', '2958', '1782', '3298', '4385', '649', '3193', '4671', '3244', '3903', '5218', '1108', '378', '4343', '1112', '3179', '566', '607', '4454', '731', '5408', '472', '437', '2705', '2767', '5392', '4432', '3416', '5658', '55', '2706', '415', '2765', '750', '2162', '948']\n",
            "Graph now has 2843 nodes and 3035 edges.\n",
            "Average Shortest Path Length: 54.57259017358137\n",
            "Node Connectivity: 0\n",
            "Size of Largest Connected Component: 2555\n",
            "Global Efficiency: 0.02529583491157243\n",
            "Diameter: 210\n",
            "Clustering Coefficient: 0.01544311006147096\n"
          ]
        }
      ]
    },
    {
      "cell_type": "markdown",
      "source": [
        "#Adding Nodes to the orginal graph based on betweenness"
      ],
      "metadata": {
        "id": "mjAUkNWRNl8N"
      }
    },
    {
      "cell_type": "code",
      "source": [
        "import networkx as nx\n",
        "#create a copy of exisitng graph\n",
        "G_adding_nodes = G.copy()\n",
        "G_orig = G.copy()\n",
        "\n",
        "top_nodes_betweenness = get_top_betweenness_nodes(G_orig)\n",
        "\n",
        "#add nodes based on betweenness\n",
        "for removed_node in top_nodes_betweenness:\n",
        "    neighbors = list(G_orig.neighbors(removed_node))\n",
        "    new_node = f\"redundant_{removed_node}\"\n",
        "    if G_adding_nodes.has_node(new_node):\n",
        "        print(f\"Duplicate node being added: {new_node}\")\n",
        "    G_adding_nodes.add_node(new_node)\n",
        "    for neighbor in neighbors:\n",
        "      if not G_adding_nodes.has_edge(new_node, neighbor):\n",
        "        G_adding_nodes.add_edge(new_node, neighbor)\n",
        "\n",
        "print(f\"Graph now has {G_adding_nodes.number_of_nodes()} nodes and {G_adding_nodes.number_of_edges()} edges.\")\n",
        "\n",
        "calculation(G_adding_nodes)\n"
      ],
      "metadata": {
        "colab": {
          "base_uri": "https://localhost:8080/"
        },
        "id": "QuRfhqybyBtU",
        "outputId": "cf5c411c-fe83-4a2a-e9c3-e5928344da2b"
      },
      "execution_count": null,
      "outputs": [
        {
          "output_type": "stream",
          "name": "stdout",
          "text": [
            "Nodes to remove based on betweenness centrality: ['811', 'PS_MBRT', 'PS_ARTC', 'PS_DRDN', '4457', 'PS_SNLS', '4451', '4579', '4434', '3860', '5325', '3853', '3849', '2667', '4692', '5407', '910', '6067', '6048', 'PS_SCTC', '653', 'PS_WITC', 'PS_ERTC', '3417', '1599', '3844', '1110', 'PS_OHLN', '3446', '3821', '736', '4507', '166', '403', '400', '408', '574', '3843', '4672', '4671', '6061', '2604', '1123', '1380', '410', '1377', '660', '1366', '656', '1392', '3443', '4636', '439', '4458', '2535', '571', '1118', '567', '1119', '413', '5797', '565', '216', '504', '335', '4646', '3379', '5513', 'PS_BERR', '112', '113', '1716', '494', '3456', '816', '1715', '2059', '995', '2214', '4433', '1933', '2212', '4435', 'PS_MVCT', '4436', '4342', '224', '157', '4391', '3410', '2126', '4340', '3468', '4389', '443', '4390', '156', '4341', '155', '347', '2162', '2394', '2165', '911', '2524', '855', '912', '913', '3279', '3202', '3704', '3702', '6060', '4097', 'PS_GILR', '915', '617', '916', '917', '2110', '1908', '3271', '5850', '2317', '343', '4995', '3285', '608', '5822', '500', '815', '2321', '110', '3275', '109', '1150', '3196', '355', '2526', '3207', '4876', '1962', '2760', '4578', '468', '2109', '5902', '3524', '1151', '4652', '3038', '2365', '382', '472', '1782', '3040', '4884', '3681', '864', '5901', '5696', '1338', '477', '378', '489', '4096', '5641', '480', '2262', 'PS_PATC', '3371', '484', '2235', '2234', '373', '2819', '482', '5697', '3735', '5867', '2818', '4468', '1983', '808', '2312', '3591', '2817', '370', '361', '346', '2284', '366', '2816', '2032', '368', '2694', '2705', '737', '1104', '861', '512', '2815', '4469', '1103', '2704', '4691', '2814', '2768', '3926', '1039', '4193', '1124', '1836', '354', '2813', '2769', '978', '2616', '2681', '1981', '619', '2481', '3864', '4658', '1835', '865', '4399', '2770', '750', '2618', '5695', '420', '1833', '4454', '5514', '2077', '1834', '440', '8', '114', '3100', '4400', '330', '2771', '2619', '860', '2522', '4218', '862', '5650', '4685', '3343', '4401', '4543', '2772', '2620', '3101', '2995', '4545', '5858', '918', '4679', '2525', '2773', '2774', '2621', '5856', '863', '940', '431', '2944', '115', '106', '2031', 'PS_LMTC', '449', '2233', '2622', '1206', '4875', '452', '867', '3358', '977', '2190', '3582', '3734', 'PS_STLC', '5977', '4452', '5976', '2030', '3467', '2886', '3063', '976', '975', '897', '6019', '5968', '5859', '3549', '3525', '6036', '5967', '858', '2887', '2006', '5952', '4877', '2951', '3062', '4453', '5857', '1832']\n",
            "Graph now has 3473 nodes and 4778 edges.\n",
            "Average Shortest Path Length: 22.254820676282197\n",
            "Node Connectivity: 0\n",
            "Size of Largest Connected Component: 3409\n",
            "Global Efficiency: 0.05317884180282164\n",
            "Diameter: 64\n",
            "Clustering Coefficient: 0.02106951198599378\n"
          ]
        }
      ]
    },
    {
      "cell_type": "markdown",
      "source": [
        "#Adding Nodes to the graph based on closeness"
      ],
      "metadata": {
        "id": "9gOMknzNNuJN"
      }
    },
    {
      "cell_type": "code",
      "source": [
        "import networkx as nx\n",
        "#clone the exisitng graph\n",
        "G_adding_nodes_closeness = G.copy()\n",
        "G_orig = G.copy()\n",
        "#add nodes based on closeness\n",
        "top_nodes_closeness = get_top_closeness_nodes(G_orig)\n",
        "for removed_node in top_nodes_closeness:\n",
        "    neighbors = list(G_orig.neighbors(removed_node))\n",
        "    new_node = f\"redundant_{removed_node}\"\n",
        "    if G_adding_nodes_closeness.has_node(new_node):\n",
        "        print(f\"Duplicate node being added: {new_node}\")\n",
        "    G_adding_nodes_closeness.add_node(new_node)\n",
        "    for neighbor in neighbors:\n",
        "        G_adding_nodes_closeness.add_edge(new_node, neighbor)\n",
        "\n",
        "print(f\"Graph now has {G_adding_nodes_closeness.number_of_nodes()} nodes and {G_adding_nodes_closeness.number_of_edges()} edges.\")\n",
        "\n",
        "\n",
        "calculation(G_adding_nodes_closeness)"
      ],
      "metadata": {
        "colab": {
          "base_uri": "https://localhost:8080/"
        },
        "id": "4HrpDXiAX1si",
        "outputId": "63306996-4676-4238-d307-141534b9f2c4"
      },
      "execution_count": null,
      "outputs": [
        {
          "output_type": "stream",
          "name": "stdout",
          "text": [
            "Nodes to remove based on closeness centrality: ['811', '4451', '4579', '5407', '4457', 'PS_ARTC', '4434', 'PS_DRDN', '3821', '6067', '736', 'PS_SNLS', '3860', 'PS_ERTC', '812', '5696', '4636', '408', '410', '4450', '1884', '443', '1599', '5325', '5858', '409', '5859', '4581', '444', '4435', '3038', '3864', '3065', '446', '406', '1123', '6048', '816', '403', '3853', '5513', '2951', '574', '3073', '3024', '737', '445', '653', '1110', '735', '5514', '3188', '3292', '411', '3849', '5850', '3185', '440', '3295', '813', '3186', '3294', '5857', '3907', '3906', '53', '5856', '5707', '1231', '1264', '1229', '1862', '3817', '808', '4449', '448', '2928', '404', '400', '1119', '2667', '4436', '439', '413', '4684', '449', '442', '617', '608', 'PS_MBRT', '431', '910', '420', '814', '571', 'PS_SCTC', '619', '3040', '412', '3291', '3063', '3031', '3066', '434', '1124', '4452', '656', '5656', '1118', '418', '3694', '4433', '2957', '815', '820', '6033', '3189', '402', '576', '452', '3271', '3207', 'PS_OHLN', '734', '575', '441', '573', '3074', '3023', '5695', '3300', '651', '3213', '4387', '3844', '654', '3181', '1111', '1109', '4342', '5797', '3417', '3908', '3183', '5459', 'PS_WITC', '3905', '433', '54', '3289', '3296', '1392', '2952', '419', '4995', '1233', '2943', '1863', '1263', '50', '1228', '5983', '806', '2927', '4218', '616', '5461', '2929', '567', '5849', '3141', '2935', '3275', '5822', '399', '401', '4543', '2944', '3735', '5531', '382', '438', '3264', '5516', '414', '3191', '660', '620', '5515', '609', '3576', '4585', '3926', '5406', '1715', '468', '450', '4652', '4578', '911', '3265', '3843', '3212', '3840', '4386', '897', '3274', '733', '3288', '3206', '624', '429', '4341', '909', '995', '421', '3287', '4672', '20', '2729', '461', '391', '3279', '3681', '4166', '570', '572', '730', '393', '459', '618', '1128', '5460', 'PS_BERR', '3062', '4546', '821', '5840', '3202', '3030', '3285', '3067', '3343', '1772', '435', '3302', '2819', '2953', '657', '655', '646', '1117', '416', '2954', '3192', '2821', '582', '1716', '112', '565', '4458', '110', '1380', '4193', '578', '3910', '4388', '453', '451', '3196', '3269', '2760', '3208', '6066', '3075', '3022', '732', '739', '4340', '4545', '2958', '1782', '3298', '4385', '649', '3193', '4671', '3244', '3903', '5218', '1108', '378', '4343', '1112', '3179', '566', '607', '4454', '731', '5408', '472', '437', '2705', '2767', '5392', '4432', '3416', '5658', '55', '2706', '415', '2765', '750', '2162', '948']\n",
            "Graph now has 3473 nodes and 4608 edges.\n",
            "Average Shortest Path Length: 21.890700293478876\n",
            "Node Connectivity: 0\n",
            "Size of Largest Connected Component: 3409\n",
            "Global Efficiency: 0.054586916921437974\n",
            "Diameter: 64\n",
            "Clustering Coefficient: 0.024062139945501784\n"
          ]
        }
      ]
    },
    {
      "cell_type": "markdown",
      "source": [
        "#Adding Nodes to the graph based on Degree Centrality"
      ],
      "metadata": {
        "id": "rD-W1sUIN3Fk"
      }
    },
    {
      "cell_type": "code",
      "source": [
        "import networkx as nx\n",
        "#clone exisiting graph\n",
        "G_adding_nodes_degree = G.copy()\n",
        "G_orig = G.copy()\n",
        "\n",
        "#add nodes based on degree centrality\n",
        "top_nodes_degree = get_top_degree_nodes(G_orig)\n",
        "for removed_node in top_nodes_degree:\n",
        "    neighbors = list(G_orig.neighbors(removed_node))\n",
        "    new_node = f\"redundant_{removed_node}\"\n",
        "    if G_adding_nodes_degree.has_node(new_node):\n",
        "        print(f\"Duplicate node being added: {new_node}\")\n",
        "    G_adding_nodes_degree.add_node(new_node)\n",
        "    for neighbor in neighbors:\n",
        "        G_adding_nodes_degree.add_edge(new_node, neighbor)\n",
        "\n",
        "print(f\"Graph now has {G_adding_nodes_degree.number_of_nodes()} nodes and {G_adding_nodes_degree.number_of_edges()} edges.\")\n",
        "\n",
        "calculation(G_adding_nodes_degree)"
      ],
      "metadata": {
        "colab": {
          "base_uri": "https://localhost:8080/"
        },
        "id": "FfYqPckAbQbz",
        "outputId": "2a98d425-ef7f-4386-e6dd-25f33150ab66"
      },
      "execution_count": null,
      "outputs": [
        {
          "output_type": "stream",
          "name": "stdout",
          "text": [
            "Nodes to remove based on degree centrality: ['PS_MBRT', 'PS_ERTC', 'PS_SCTC', '4692', 'PS_BERR', 'PS_DRDN', '439', 'PS_MVCT', 'PS_GILR', 'PS_PATC', '413', 'PS_SNLS', 'PS_ARTC', 'PS_WITC', '410', '443', '3926', 'PS_LMTC', '4585', 'PS_OHLN', '335', '391', '461', '504', '565', '574', '660', '750', '811', '1124', '1715', '1716', '1782', '2523', '3358', '3417', '3468', '4338', '4578', 'PS_BAYP', 'PS_WVTC', '20', '408', '412', '494', '608', '619', '653', '661', '864', '995', '1123', '1128', '1933', '1962', '2526', '2535', '2604', '3202', '3271', '3371', '3379', '3446', '3456', '3582', '3844', '4507', 'PS_GISH', 'PS_TASM', 'PS_CHMP', '5707', '8', '166', '216', '224', '266', '330', '336', '343', '346', '347', '355', '361', '366', '368', '370', '373', '378', '382', '387', '400', '403', '418', '420', '431', '434', '444', '445', '449', '452', '464', '468', '472', '477', '480', '482', '484', '489', '500', '511', '512', '517', '567', '571', '576', '582', '586', '594', '600', '603', '607', '624', '634', '643', '646', '656', '694', '731', '736', '815', '816', '852', '855', '858', '865', '910', 'PS_CULR', '940', '1031', '1039', '1042', '1044', '1110', '1338', '1366', '1380', '1388', '1426', '1686', '1692', '1744', '1780', '1784', '1884', '1907', '1908', '1918', '1938', '1939', '1951', '1983', '2059', '2126', '2144', '2190', '2262', '2282', '2284', '2312', '2317', '2321', '2361', '2364', '2365', '2394', '2502', '2522', '2530', '2694', '2729', '2760', '2839', '3002', '3094', '3181', '3185', '3196', '3207', '3275', '3279', '3285', '3295', '3300', '3305', '3343', '3351', '3363', 'PS_STLC', '3410', '3464', '3467', '3475', '3486', '3488', '3495', '3524', '3545', '3584', '3591', '3821', '3841', '3843', '3864', '4097', '4193', '4199', '4345', '4432', '4434', '4451', '4454', '4458', '4509', '4576', '4579', '4587', '4589', '4691', 'PS_CONV', 'PS_CIVC', 'PS_METR', 'PS_KRNA', 'PS_COMP', 'PS_BONA', 'PS_ORCH', 'PS_ROAK', 'PS_LICK', '4877', '4884', '4926', '4995', '5252', '5513', '5578', '5641', '5781', '5822', '5867', '5899', '5901', '5902', '5906', '6001', '6025', '35', '46', '47', '53', '54', '55', '65', '109', '110', '112', '113', '120', '156', '157', '158', '159', '243', '247', '267', '268', '352', '354', '404', '406', '409', '411', '414', '422', '426', '438', '441', '446', '448', '462', '495', '533', '534', '543', '566', '585', '587', '617', '620', '642', '644', '651', '662', '683', '692', '698', '700', '722', '730', '737', '757', '758', '780', '808', '822', '823', '844']\n",
            "Graph now has 3473 nodes and 4964 edges.\n",
            "Average Shortest Path Length: 22.32945802997896\n",
            "Node Connectivity: 0\n",
            "Size of Largest Connected Component: 3396\n",
            "Global Efficiency: 0.05266907353347108\n",
            "Diameter: 64\n",
            "Clustering Coefficient: 0.023010059501338147\n"
          ]
        }
      ]
    },
    {
      "cell_type": "code",
      "source": [
        "betweenness_node_removal_and_calculate(G_adding_nodes)"
      ],
      "metadata": {
        "colab": {
          "base_uri": "https://localhost:8080/"
        },
        "id": "oyCNlXfZTBcq",
        "outputId": "f6c3f800-1035-4f90-a0c1-79c578b4cac3"
      },
      "execution_count": null,
      "outputs": [
        {
          "output_type": "stream",
          "name": "stdout",
          "text": [
            "Nodes to remove based on betweenness centrality: ['811', 'PS_ARTC', 'PS_MBRT', 'PS_DRDN', '4457', 'PS_SNLS', '4451', '4434', '4579', '3860', '5407', '5325', '3853', '3849', '2667', '4692', '910', '6067', '6048', 'redundant_811', '653', 'PS_SCTC', 'PS_WITC', '3417', '1110', '1599', 'PS_OHLN', '3844', '3446', '4507', '400', '3821', '408', '1123', '403', '736', '3843', '166', '574', '4672', '6061', '4671', '2604', '1380', '1377', '410', 'redundant_PS_ARTC', 'redundant_PS_MBRT', 'PS_ERTC', 'redundant_PS_DRDN', 'redundant_PS_SNLS', '4636', '656', '1366', '3443', 'redundant_4457', '660', '1392', '1119', 'redundant_4451', '1118', '5797', '4458', '571', 'redundant_4434', '2535', '439', '567', '112', '113', '504', 'redundant_4579', 'redundant_3860', 'redundant_4692', 'redundant_5325', 'redundant_3853', 'redundant_3849', 'redundant_2667', '216', 'redundant_5407', '565', '5513', '4646', '335', '816', '3379', 'redundant_PS_SCTC', '494', '1716', '413', '1715', 'redundant_PS_ERTC', 'redundant_910', '4433', '4435', '2059', '4436', '2214', '2212', '3456', '4342', 'redundant_6067', 'PS_MVCT', 'redundant_6048', 'redundant_653', '995', '1933', '4340', '4391', '443', '4390', '4389', '4341', '224', 'redundant_PS_WITC', '3468', '157', '911', '2162', '2524', '347', '2165', 'redundant_3417', '156', 'PS_BERR', '912', '3410', '2126', '155', '855', '2394', '913', '3279', 'redundant_3844', '3202', 'redundant_1110', '1150', 'redundant_PS_OHLN', '3704', '4097', '617', '6060', 'redundant_166', '3702', 'redundant_1599', '815', '915', '2110', '3271', '500', '3285', 'redundant_736', '5822', '3207', 'redundant_403', '917', 'redundant_3843', 'redundant_574', '5850', '916', 'redundant_4507', 'redundant_3446', '608', '3275', '2317', '355', '2526', 'redundant_1123', '3196', 'redundant_408', '343', '2321', '1908', '4876', 'redundant_1380', '1151', 'redundant_2604', 'redundant_400', '4995', 'redundant_4671', '2109', '468', 'redundant_4672', 'redundant_410', '2760', 'redundant_3821', 'redundant_660', 'redundant_439', 'redundant_6061', 'redundant_1377', '1962', 'PS_GILR', 'redundant_1366', '382', '2365', '110', '472', '2819', '4884', '5902', 'redundant_4636', '864', '2818', 'redundant_4458', 'redundant_3443', '477', '4652', 'redundant_1392', '378', '3040', '5697', 'redundant_656', '1338', 'redundant_PS_BERR', '4578', '109', 'redundant_1118', 'redundant_2535', 'redundant_413', '2817', '3038', '5641', '489', '480', '5901', 'redundant_1119', '3524', '5696', '484', '482', '373', 'redundant_5797', '2816', 'redundant_565', '4096', 'redundant_816', '4468', '4469', 'redundant_571', '2815', '1983', 'redundant_567', '370', '2235', '5867', '2705', '5514', '2694', 'redundant_112', '361', '368', '2234', '366', 'redundant_995', '2814', '3100', 'redundant_113', 'redundant_216', '861', '2704', '856', '2616', '4543', '857', '1104', '2769', '2681', '2813', 'redundant_335', '1981', '8', '2768', '2032', '354', 'redundant_494', '3371', '114', '1836', '4545', 'redundant_504', '2262', '737', '2481', '2618', 'redundant_5513', 'redundant_4646', '3681', '2078', '978', '445', '4199', '4454', '4658', 'redundant_3456', '1835', 'redundant_3379', '4685', '2770', '1124', '3591', '2144', '2619', '418', 'redundant_2059', '1042', '1041', '3548', '440', '1782', '4400', '5966', '2771', '5650', '2284', 'redundant_443', '3735', 'redundant_1715', 'redundant_PS_MVCT', '3526', '3603', '4399', '5965', '2028', '330', '3864', '4679', '2620', '1834', '2027', '859', '2888', '1833', '6019', '3547', '1039', 'PS_PATC', '5964', 'redundant_4435', 'redundant_855', '1031', '3343', '434', '730', '2995', '3037', '4452', 'PS_CULR']\n",
            "Graph now has 3126 nodes and 3269 edges.\n",
            "Average Shortest Path Length: 86.23438348025032\n",
            "Node Connectivity: 0\n",
            "Size of Largest Connected Component: 2747\n",
            "Global Efficiency: 0.015090905400108854\n",
            "Diameter: 251\n",
            "Clustering Coefficient: 0.012768485513207205\n"
          ]
        }
      ]
    },
    {
      "cell_type": "code",
      "source": [
        "closeness_node_removal_and_calculate(G_adding_nodes_closeness)"
      ],
      "metadata": {
        "colab": {
          "base_uri": "https://localhost:8080/"
        },
        "id": "m_n7xZGeUzTg",
        "outputId": "c30bf3fb-9837-4782-812d-9dd7d108ee44"
      },
      "execution_count": null,
      "outputs": [
        {
          "output_type": "stream",
          "name": "stdout",
          "text": [
            "Nodes to remove based on closeness centrality: ['811', 'redundant_811', '4451', 'redundant_4451', '4579', 'redundant_4579', '5407', 'redundant_5407', '4457', 'redundant_4457', 'PS_ARTC', 'redundant_PS_ARTC', '4434', 'redundant_4434', 'PS_DRDN', 'redundant_PS_DRDN', '3821', 'redundant_3821', '6067', 'redundant_6067', '736', 'redundant_736', 'PS_SNLS', 'redundant_PS_SNLS', 'PS_ERTC', 'redundant_PS_ERTC', '812', 'redundant_812', '3860', 'redundant_3860', '5696', 'redundant_5696', '4636', 'redundant_4636', '410', '408', 'redundant_410', 'redundant_408', '4450', 'redundant_4450', '1884', 'redundant_1884', '443', 'redundant_443', '409', 'redundant_409', '1599', 'redundant_1599', '5858', 'redundant_5858', '444', 'redundant_444', '5859', 'redundant_5859', '4581', 'redundant_4581', '5325', 'redundant_5325', '4435', 'redundant_4435', '446', 'redundant_446', '406', '3038', 'redundant_406', 'redundant_3038', '3864', 'redundant_3864', '3065', 'redundant_3065', '816', 'redundant_816', '1123', 'redundant_1123', '6048', 'redundant_6048', '2951', 'redundant_2951', '403', 'redundant_403', '5513', 'redundant_5513', '3073', 'redundant_3073', '3024', 'redundant_3024', '574', 'redundant_574', '737', 'redundant_737', '445', 'redundant_445', '3853', 'redundant_3853', '5514', 'redundant_5514', '1110', 'redundant_1110', '735', 'redundant_735', '411', 'redundant_411', '653', 'redundant_653', '5850', 'redundant_5850', '3188', 'redundant_3188', '3292', 'redundant_3292', '440', 'redundant_440', '813', 'redundant_813', '3185', 'redundant_3185', '5857', 'redundant_5857', '3907', 'redundant_3907', '3906', '3295', 'redundant_3906', 'redundant_3295', '53', 'redundant_53', '3186', 'redundant_3186', '3294', 'redundant_3294', '5707', 'redundant_5707', '1231', '1264', 'redundant_1231', '1229', 'redundant_1264', '1862', '5856', 'redundant_1229', 'redundant_1862', 'redundant_5856', '808', '3817', 'redundant_3817', 'redundant_808', '2928', 'redundant_2928', '448', '4449', 'redundant_448', 'redundant_4449', '404', 'redundant_404', '439', '3849', '400', 'redundant_3849', 'redundant_400', 'redundant_439', '413', 'redundant_413', '1119', 'redundant_1119', '4684', 'redundant_4684', '442', 'redundant_442', '4436', 'redundant_4436', '617', 'redundant_617', '608', 'redundant_608', '449', 'redundant_449', '431', 'redundant_431', '910', 'redundant_910', '814', 'redundant_814', '420', 'redundant_420', '619', 'redundant_619', '2667', 'redundant_2667', '412', 'redundant_412', '571', 'redundant_571', '3040', 'redundant_3040', '434', 'redundant_434', '3063', 'redundant_3063', '3031', 'redundant_3031', 'PS_SCTC', '3066', 'redundant_3066', 'redundant_PS_SCTC', '3291', 'redundant_3291', '815', 'redundant_815', '6033', '418', 'redundant_6033', 'redundant_418', '820', 'redundant_820', '4452', 'redundant_4452', '1124', 'redundant_1124', '2957', 'redundant_2957', '5656', 'redundant_5656', '3694', 'redundant_3694', 'PS_MBRT', 'redundant_PS_MBRT', '656', 'redundant_656', '3189', 'redundant_3189', '402', 'redundant_402', '1118', 'redundant_1118', '3074', 'redundant_3074', '3023', 'redundant_3023', '4433', 'redundant_4433', '441', 'redundant_441', '576', 'redundant_576', '734', 'redundant_734', '3271', 'redundant_3271', '575', 'redundant_575', 'PS_OHLN', '3207', 'redundant_3207', 'redundant_PS_OHLN', '573', 'redundant_573', '452', 'redundant_452', '5695', 'redundant_5695', '3213', 'redundant_3213', '3300', 'redundant_3300', '4387', 'redundant_4387', '651', 'redundant_651', '1111', '3181', '1109', 'redundant_1111', 'redundant_1109', 'redundant_3181', '5459', 'redundant_5459', '654', 'redundant_654', '3908', 'redundant_3908', '433', 'redundant_433', '3905', 'redundant_3905', '3183', 'redundant_3183', '4342', 'redundant_4342', '54', 'redundant_54', 'PS_WITC', '2952', 'redundant_2952', 'redundant_PS_WITC', '2943', 'redundant_2943', '419', 'redundant_419', '4995', 'redundant_4995', '3296', '5797', '1233', 'redundant_3296', 'redundant_1233', '1863', 'redundant_5797', '50', 'redundant_1863', '1263', 'redundant_50', 'redundant_1263', '1228', 'redundant_1228', '806', 'redundant_806', '2927', 'redundant_2927', '5983', 'redundant_5983', '5461', 'redundant_5461', '616', 'redundant_616', '4218', 'redundant_4218', '2929', 'redundant_2929', '3417', '3289', 'redundant_3289', '5849', 'redundant_3417', 'redundant_5849', '3141', 'redundant_3141', '2935', 'redundant_2935', '2944', 'redundant_2944', '567', 'redundant_567', '5531', '3275', 'redundant_5531', 'redundant_3275', '438']\n",
            "Nodes to remove based on closeness centrality: ['811', 'redundant_811', '4451', 'redundant_4451', '4579', 'redundant_4579', '5407', 'redundant_5407', '4457', 'redundant_4457', 'PS_ARTC', 'redundant_PS_ARTC', '4434', 'redundant_4434', 'PS_DRDN', 'redundant_PS_DRDN', '3821', 'redundant_3821', '6067', 'redundant_6067', '736', 'redundant_736', 'PS_SNLS', 'redundant_PS_SNLS', 'PS_ERTC', 'redundant_PS_ERTC', '812', 'redundant_812', '3860', 'redundant_3860', '5696', 'redundant_5696', '4636', 'redundant_4636', '410', '408', 'redundant_410', 'redundant_408', '4450', 'redundant_4450', '1884', 'redundant_1884', '443', 'redundant_443', '409', 'redundant_409', '1599', 'redundant_1599', '5858', 'redundant_5858', '444', 'redundant_444', '5859', 'redundant_5859', '4581', 'redundant_4581', '5325', 'redundant_5325', '4435', 'redundant_4435', '446', 'redundant_446', '406', '3038', 'redundant_406', 'redundant_3038', '3864', 'redundant_3864', '3065', 'redundant_3065', '816', 'redundant_816', '1123', 'redundant_1123', '6048', 'redundant_6048', '2951', 'redundant_2951', '403', 'redundant_403', '5513', 'redundant_5513', '3073', 'redundant_3073', '3024', 'redundant_3024', '574', 'redundant_574', '737', 'redundant_737', '445', 'redundant_445', '3853', 'redundant_3853', '5514', 'redundant_5514', '1110', 'redundant_1110', '735', 'redundant_735', '411', 'redundant_411', '653', 'redundant_653', '5850', 'redundant_5850', '3188', 'redundant_3188', '3292', 'redundant_3292', '440', 'redundant_440', '813', 'redundant_813', '3185', 'redundant_3185', '5857', 'redundant_5857', '3907', 'redundant_3907', '3906', '3295', 'redundant_3906', 'redundant_3295', '53', 'redundant_53', '3186', 'redundant_3186', '3294', 'redundant_3294', '5707', 'redundant_5707', '1231', '1264', 'redundant_1231', '1229', 'redundant_1264', '1862', '5856', 'redundant_1229', 'redundant_1862', 'redundant_5856', '808', '3817', 'redundant_3817', 'redundant_808', '2928', 'redundant_2928', '448', '4449', 'redundant_448', 'redundant_4449', '404', 'redundant_404', '439', '3849', '400', 'redundant_3849', 'redundant_400', 'redundant_439', '413', 'redundant_413', '1119', 'redundant_1119', '4684', 'redundant_4684', '442', 'redundant_442', '4436', 'redundant_4436', '617', 'redundant_617', '608', 'redundant_608', '449', 'redundant_449', '431', 'redundant_431', '910', 'redundant_910', '814', 'redundant_814', '420', 'redundant_420', '619', 'redundant_619', '2667', 'redundant_2667', '412', 'redundant_412', '571', 'redundant_571', '3040', 'redundant_3040', '434', 'redundant_434', '3063', 'redundant_3063', '3031', 'redundant_3031', 'PS_SCTC', '3066', 'redundant_3066', 'redundant_PS_SCTC', '3291', 'redundant_3291', '815', 'redundant_815', '6033', '418', 'redundant_6033', 'redundant_418', '820', 'redundant_820', '4452', 'redundant_4452', '1124', 'redundant_1124', '2957', 'redundant_2957', '5656', 'redundant_5656', '3694', 'redundant_3694', 'PS_MBRT', 'redundant_PS_MBRT', '656', 'redundant_656', '3189', 'redundant_3189', '402', 'redundant_402', '1118', 'redundant_1118', '3074', 'redundant_3074', '3023', 'redundant_3023', '4433', 'redundant_4433', '441', 'redundant_441', '576', 'redundant_576', '734', 'redundant_734', '3271', 'redundant_3271', '575', 'redundant_575', 'PS_OHLN', '3207', 'redundant_3207', 'redundant_PS_OHLN', '573', 'redundant_573', '452', 'redundant_452', '5695', 'redundant_5695', '3213', 'redundant_3213', '3300', 'redundant_3300', '4387', 'redundant_4387', '651', 'redundant_651', '1111', '3181', '1109', 'redundant_1111', 'redundant_1109', 'redundant_3181', '5459', 'redundant_5459', '654', 'redundant_654', '3908', 'redundant_3908', '433', 'redundant_433', '3905', 'redundant_3905', '3183', 'redundant_3183', '4342', 'redundant_4342', '54', 'redundant_54', 'PS_WITC', '2952', 'redundant_2952', 'redundant_PS_WITC', '2943', 'redundant_2943', '419', 'redundant_419', '4995', 'redundant_4995', '3296', '5797', '1233', 'redundant_3296', 'redundant_1233', '1863', 'redundant_5797', '50', 'redundant_1863', '1263', 'redundant_50', 'redundant_1263', '1228', 'redundant_1228', '806', 'redundant_806', '2927', 'redundant_2927', '5983', 'redundant_5983', '5461', 'redundant_5461', '616', 'redundant_616', '4218', 'redundant_4218', '2929', 'redundant_2929', '3417', '3289', 'redundant_3289', '5849', 'redundant_3417', 'redundant_5849', '3141', 'redundant_3141', '2935', 'redundant_2935', '2944', 'redundant_2944', '567', 'redundant_567', '5531', '3275', 'redundant_5531', 'redundant_3275', '438']\n",
            "Graph now has 3126 nodes and 3547 edges.\n",
            "Average Shortest Path Length: 37.38683525482583\n",
            "Node Connectivity: 0\n",
            "Size of Largest Connected Component: 2971\n",
            "Global Efficiency: 0.032805786004163874\n",
            "Diameter: 121\n",
            "Clustering Coefficient: 0.017227249185022712\n"
          ]
        }
      ]
    },
    {
      "cell_type": "code",
      "source": [
        "targeted_node_removal_and_calculate(G_adding_nodes_degree)"
      ],
      "metadata": {
        "colab": {
          "base_uri": "https://localhost:8080/"
        },
        "id": "Z_kPLQhyU1lw",
        "outputId": "51f58bf6-5975-42d9-c378-9a8b88cfadf5"
      },
      "execution_count": null,
      "outputs": [
        {
          "output_type": "stream",
          "name": "stdout",
          "text": [
            "Nodes to remove based on degree centrality: ['PS_MBRT', 'PS_SCTC', 'PS_ERTC', 'PS_DRDN', '4692', 'PS_BERR', '439', 'PS_MVCT', 'PS_GILR', 'redundant_4692', 'PS_WITC', 'redundant_PS_ERTC', 'PS_PATC', 'PS_SNLS', 'redundant_439', '410', '413', 'PS_ARTC', 'redundant_PS_BERR', 'redundant_PS_DRDN', 'redundant_PS_SCTC', '335', '408', '443', '1715', '1716', '2523', '3468', 'PS_OHLN', '1124', '2526', '2535', '3358', '3926', 'PS_BAYP', 'redundant_PS_MBRT', 'redundant_PS_PATC', 'redundant_413', 'redundant_PS_SNLS', 'redundant_PS_WITC', '391', '445', '461', '494', '504', '565', '574', '660', '811', '1782', '1933', '1962', '2522', '3371', '3456', 'PS_LMTC', '4507', '4579', '4585', 'PS_TASM', 'PS_CHMP', '5513', 'redundant_PS_GILR', 'redundant_PS_ARTC', '347', '355', '403', '412', '444', '449', '512', '567', '586', '619', '643', '653', '661', '736', '864', '1123', '1884', '2364', '2604', '3202', '3271', '3379', '3417', '3821', '3844', '4338', '4578', 'PS_GISH', 'PS_WVTC', '5707', '20', '266', '330', '343', '361', '366', '368', '370', '373', '378', '382', '400', '406', '409', '411', '418', '434', '446', '452', '468', '472', '477', '480', '482', '484', '489', '500', '517', '571', '576', '582', '600', '603', '608', '624', '646', '656', '750', '816', '865', '995', '1110', '1128', '1338', '1366', '1784', '1908', '1938', '1939', '2144', '2284', '2312', '2317', '2321', '2365', '2394', '2694', '2760', '3181', '3185', '3196', '3207', '3275', '3279', '3285', '3295', '3300', '3343', '3363', 'PS_STLC', '3446', '3464', '3486', '3582', '3591', '3843', '4193', '4199', '4432', '4454', '4457', '4691', 'PS_METR', 'PS_KRNA', 'PS_COMP', 'PS_BONA', 'PS_ORCH', 'PS_ROAK', '4995', '5252', '5641', '5822', '5901', '5902', '6001', 'redundant_PS_MVCT', 'redundant_410', 'redundant_443', 'redundant_PS_LMTC', 'redundant_335', 'redundant_504', 'redundant_565', 'redundant_574', 'redundant_660', 'redundant_750', 'redundant_811', 'redundant_1124', 'redundant_1715', 'redundant_1716', 'redundant_1782', 'redundant_2523', 'redundant_3417', 'redundant_4338', '53', '54', '110', '112', '156', '157', '158', '216', '224', '267', '268', '336', '346', '404', '420', '431', '448', '511', '533', '566', '594', '607', '617', '634', '651', '683', '731', '815', '855', '910', '994', '1031', '1042', '1044', '1377', '1380', '1392', '1426', '1473', '1686', '1692', '1780', '1907', '1932', '1963', '1983', '2059', '2126', '2190', '2262', '2282', '2361', '2393', '2524', '2525', '2530', '2705', '2729', '2839', '3206', '3274', '3278', '3305', '3351', '3410', '3443', '3467', '3475', '3488', '3583', '3584', '3840', '3864', '3923', '3942', '4097', '4344', '4345', '4434', '4439', '4451', '4458', '4488', '4509', '4576', '4650', '4696', 'PS_CIVC', 'PS_LICK', '4877', '4884', '5137', '5578', '5696', '5777', '5850', '5899', 'redundant_3358', 'redundant_3468', 'redundant_408', 'redundant_412', 'redundant_494', 'redundant_608', 'redundant_619', 'redundant_653', 'redundant_661', 'redundant_864', 'redundant_995', 'redundant_1123', 'redundant_1128', 'redundant_1933', 'redundant_1962', 'redundant_2526', 'redundant_2535', 'redundant_2604', 'redundant_3202', 'redundant_3271', 'redundant_3371', 'redundant_3379', 'redundant_3446', 'redundant_3456', 'redundant_3582', 'redundant_4507', '8', '35', '46', '47', '55', '65', '109', '113', '155', '159', '165', '166', '329', '353', '354', '367', '369']\n",
            "Graph now has 3126 nodes and 3231 edges.\n",
            "Average Shortest Path Length: 70.9774676138367\n",
            "Node Connectivity: 0\n",
            "Size of Largest Connected Component: 2512\n",
            "Global Efficiency: 0.013988338540398278\n",
            "Diameter: 199\n",
            "Clustering Coefficient: 0.007037747920665388\n"
          ]
        }
      ]
    },
    {
      "cell_type": "code",
      "source": [
        "remove_random_nodes_and_calculate(G_adding_nodes)"
      ],
      "metadata": {
        "colab": {
          "base_uri": "https://localhost:8080/"
        },
        "id": "YpjxO0ERdsbY",
        "outputId": "d24418cd-b975-43e7-a60c-cf9e01780b44"
      },
      "execution_count": null,
      "outputs": [
        {
          "output_type": "stream",
          "name": "stdout",
          "text": [
            "Nodes removed: ['4422', '722', 'PS_GILR', '5797', '1889', '1587', '1391', '873', '5752', '673', 'PS_BORR', '5781', '3620', '593', '3915', '2852', '293', '272', '626', '1354', '1506', '3419', '4023', '245', '3694', '1207', '5595', '4485', '5427', '3619', '2835', '1372', '2997', '3910', '1908', 'redundant_3681', '53', '5962', 'redundant_2760', '968', 'PS_WITC', '2856', '2368', '1907', '949', '1331', '6001', '2345', '672', '621', '2601', '646', '2497', '2390', '4043', '1751', 'redundant_3524', '371', '5695', '3073', '3574', '798', '2589', '552', '3655', '2002', 'redundant_114', '4335', '4190', '2509', '3782', '1155', '5503', '496', '381', '4639', '1435', 'redundant_4434', '1965', '556', '1507', '666', 'redundant_2774', 'redundant_115', '3018', '4388', '2522', '982', '2545', '2468', '1285', 'PS_TAMN', '1818', '5459', '5006', '4466', '504', '4104', '4385', '1025', '3565', '5687', '1586', '985', '3088', '2599', '1832', '4424', '5059', '3675', '1366', '5029', '2246', '6054', 'redundant_653', '438', '1464', '294', 'redundant_3207', '2184', '2743', '1821', '483', '1297', '3727', '5608', '2180', '1303', '4553', '3390', '2716', '4437', '3070', '890', '1757', 'redundant_2006', '1618', '5866', '3697', '3592', '1744', '5898', '3840', '2885', '3814', '2735', '2510', '1365', '868', '3438', '3365', '613', '5943', '388', '711', 'PS_CULR', '4331', '970', 'redundant_224', '4926', '2853', '3954', '472', '2642', '2619', '3952', '3192', '3542', '1661', '3660', '101', '4884', '5625', '742', '4977', '3582', '5919', '1817', '6055', '4428', 'redundant_106', 'redundant_5857', '2004', '2914', '962', '3019', '38', '5632', '5620', '1746', '3396', '5976', '1086', '3430', '697', '4304', '2034', '4420', 'redundant_3271', '4103', 'redundant_4452', 'redundant_5901', '2561', '5983', '976', '3594', 'redundant_4507', '3547', '11', '3974', '2245', '3305', '210', '724', '2514', '2129', '1559', '446', '1568', 'redundant_2284', 'redundant_3343', '583', '5708', '3288', '495', '5969', '3557', '6037', '803', '816', '4627', '3231', '3639', '992', '1772', '3528', '4088', '2862', '1300', '3593', '5941', '5696', '5220', '1237', '5579', '2168', '2734', '4749', 'redundant_PS_STLC', '2559', '2928', '3477', '3008', '780', '1624', '1402', '474', '2354', '217', '3905', '3662', '1472', '3906', 'redundant_977', '56', '502', '5536', '4345', '451', '1463', '488', '286', '2311', 'redundant_1392', '3459', '1551', '1909', 'PS_SNLL', '3286', '1327', 'redundant_1715', '837', '5637', '3743', '3767', '3217', '1578', '3218', '2773', '1147', '632', '648', '4588', '2896', '2463', '2863', '2791', '3186', 'redundant_354', '426', 'PS_BONA', '4523', '4451', '656', '459', '2751', '5661', '2364', '709', '1627', '1152', 'redundant_3844', 'redundant_2772', '2995', '876', 'redundant_5968', '1108', 'redundant_4672', '3089', '1650', '527', '2965', '3642', '654', '409', '4508', '3599', '123', '625', '5933', '1545', '1000', '2770', '3287', '3266', '1317', '2742', '450', '990', '2591', '33', '2694', '1780', '3026', '1944', '2861', 'PS_CMBL']\n",
            "Graph now has 3126 nodes and 3912 edges.\n",
            "Average Shortest Path Length: 23.1501325255585\n",
            "Node Connectivity: 0\n",
            "Size of Largest Connected Component: 2641\n",
            "Global Efficiency: 0.039585436364093826\n",
            "Diameter: 79\n",
            "Clustering Coefficient: 0.02013174143692379\n"
          ]
        }
      ]
    },
    {
      "cell_type": "code",
      "source": [
        "remove_random_nodes_and_calculate(G_adding_nodes_closeness)"
      ],
      "metadata": {
        "colab": {
          "base_uri": "https://localhost:8080/"
        },
        "id": "K14jek7afOQ8",
        "outputId": "e67d0ac7-f1c7-4715-e6ff-f408edad8373"
      },
      "execution_count": null,
      "outputs": [
        {
          "output_type": "stream",
          "name": "stdout",
          "text": [
            "Nodes removed: ['4422', '722', 'PS_GILR', '5797', '1889', '1587', '1391', '873', '5752', '673', 'PS_BORR', '5781', '3620', '593', '3915', '2852', '293', '272', '626', '1354', '1506', '3419', '4023', '245', '3694', '1207', '5595', '4485', '5427', '3619', '2835', '1372', '2997', '3910', '1908', 'redundant_1863', '53', '5962', 'redundant_3908', '968', 'PS_WITC', '2856', '2368', '1907', '949', '1331', '6001', '2345', '672', '621', '2601', '646', '2497', '2390', '4043', '1751', 'redundant_433', '371', '5695', '3073', '3574', '798', '2589', '552', '3655', '2002', 'redundant_3030', '4335', '4190', '2509', '3782', '1155', '5503', '496', '381', '4639', '1435', 'redundant_3821', '1965', '556', '1507', '666', 'redundant_578', 'redundant_2760', '3018', '4388', '2522', '982', '2545', '2468', '1285', 'PS_TAMN', '1818', '5459', '5006', '4466', '504', '4104', '4385', '1025', '3565', '5687', '1586', '985', '3088', '2599', '1832', '4424', '5059', '3675', '1366', '5029', '2246', '6054', 'redundant_1884', '438', '1464', '294', 'redundant_4342', '2184', '2743', '1821', '483', '1297', '3727', '5608', '2180', '1303', '4553', '3390', '2716', '4437', '3070', '890', '1757', 'redundant_5658', '1618', '5866', '3697', '3592', '1744', '5898', '3840', '2885', '3814', '2735', '2510', '1365', '868', '3438', '3365', '613', '5943', '388', '711', 'PS_CULR', '4331', '970', 'redundant_442', '4926', '2853', '3954', '472', '2642', '2619', '3952', '3192', '3542', '1661', '3660', '101', '4884', '5625', '742', '4977', '3582', '5919', '1817', '6055', '4428', 'redundant_3208', 'redundant_2162', '2004', '2914', '962', '3019', '38', '5632', '5620', '1746', '3396', '5976', '1086', '3430', '697', '4304', '2034', '4420', 'redundant_3207', '4103', 'redundant_5218', 'redundant_50', '2561', '5983', '976', '3594', 'redundant_3864', '3547', '11', '3974', '2245', '3305', '210', '724', '2514', '2129', '1559', '446', '1568', 'redundant_3576', 'redundant_1117', '583', '5708', '3288', '495', '5969', '3557', '6037', '803', '816', '4627', '3231', '3639', '992', '1772', '3528', '4088', '2862', '1300', '3593', '5941', '5696', '5220', '1237', '5579', '2168', '2734', '4749', 'redundant_3244', '2559', '2928', '3477', '3008', '780', '1624', '1402', '474', '2354', '217', '3905', '3662', '1472', '3906', 'redundant_4385', '56', '502', '5536', '4345', '451', '1463', '488', '286', '2311', 'redundant_735', '3459', '1551', '1909', 'PS_SNLL', '3286', '1327', 'redundant_448', '837', '5637', '3743', '3767', '3217', '1578', '3218', '2773', '1147', '632', '648', '4588', '2896', '2463', '2863', '2791', '3186', 'redundant_909', '426', 'PS_BONA', '4523', '4451', '656', '459', '2751', '5661', '2364', '709', '1627', '1152', 'redundant_409', 'redundant_3192', '2995', '876', 'redundant_5408', '1108', 'redundant_403', '3089', '1650', '527', '2965', '3642', '654', '409', '4508', '3599', '123', '625', '5933', '1545', '1000', '2770', '3287', '3266', '1317', '2742', '450', '990', '2591', '33', '2694', '1780', '3026', '1944', '2861', 'PS_CMBL']\n",
            "Graph now has 3126 nodes and 3754 edges.\n",
            "Average Shortest Path Length: 22.149781368213084\n",
            "Node Connectivity: 0\n",
            "Size of Largest Connected Component: 2482\n",
            "Global Efficiency: 0.03726384086933205\n",
            "Diameter: 83\n",
            "Clustering Coefficient: 0.022757899003998033\n"
          ]
        }
      ]
    },
    {
      "cell_type": "code",
      "source": [
        "remove_random_nodes_and_calculate(G_adding_nodes_degree)"
      ],
      "metadata": {
        "colab": {
          "base_uri": "https://localhost:8080/"
        },
        "id": "Mood7UZsfQ0w",
        "outputId": "edcf0ca6-2919-48a9-cfc8-f8e68f0f204c"
      },
      "execution_count": null,
      "outputs": [
        {
          "output_type": "stream",
          "name": "stdout",
          "text": [
            "Nodes removed: ['4422', '722', 'PS_GILR', '5797', '1889', '1587', '1391', '873', '5752', '673', 'PS_BORR', '5781', '3620', '593', '3915', '2852', '293', '272', '626', '1354', '1506', '3419', '4023', '245', '3694', '1207', '5595', '4485', '5427', '3619', '2835', '1372', '2997', '3910', '1908', 'redundant_1938', '53', '5962', 'redundant_1110', '968', 'PS_WITC', '2856', '2368', '1907', '949', '1331', '6001', '2345', '672', '621', '2601', '646', '2497', '2390', '4043', '1751', 'redundant_1426', '371', '5695', '3073', '3574', '798', '2589', '552', '3655', '2002', 'redundant_4926', '4335', '4190', '2509', '3782', '1155', '5503', '496', '381', '4639', '1435', 'redundant_PS_GILR', '1965', '556', '1507', '666', 'redundant_113', 'redundant_247', '3018', '4388', '2522', '982', '2545', '2468', '1285', 'PS_TAMN', '1818', '5459', '5006', '4466', '504', '4104', '4385', '1025', '3565', '5687', '1586', '985', '3088', '2599', '1832', '4424', '5059', '3675', '1366', '5029', '2246', '6054', 'redundant_335', '438', '1464', '294', 'redundant_1039', '2184', '2743', '1821', '483', '1297', '3727', '5608', '2180', '1303', '4553', '3390', '2716', '4437', '3070', '890', '1757', 'redundant_737', '1618', '5866', '3697', '3592', '1744', '5898', '3840', '2885', '3814', '2735', '2510', '1365', '868', '3438', '3365', '613', '5943', '388', '711', 'PS_CULR', '4331', '970', 'redundant_373', '4926', '2853', '3954', '472', '2642', '2619', '3952', '3192', '3542', '1661', '3660', '101', '4884', '5625', '742', '4977', '3582', '5919', '1817', '6055', '4428', 'redundant_267', 'redundant_823', '2004', '2914', '962', '3019', '38', '5632', '5620', '1746', '3396', '5976', '1086', '3430', '697', '4304', '2034', '4420', 'redundant_624', '4103', 'redundant_533', 'redundant_1951', '2561', '5983', '976', '3594', 'redundant_1716', '3547', '11', '3974', '2245', '3305', '210', '724', '2514', '2129', '1559', '446', '1568', 'redundant_3285', 'redundant_5906', '583', '5708', '3288', '495', '5969', '3557', '6037', '803', '816', '4627', '3231', '3639', '992', '1772', '3528', '4088', '2862', '1300', '3593', '5941', '5696', '5220', '1237', '5579', '2168', '2734', '4749', 'redundant_462', '2559', '2928', '3477', '3008', '780', '1624', '1402', '474', '2354', '217', '3905', '3662', '1472', '3906', 'redundant_438', '56', '502', '5536', '4345', '451', '1463', '488', '286', '2311', 'redundant_864', '3459', '1551', '1909', 'PS_SNLL', '3286', '1327', 'redundant_266', '837', '5637', '3743', '3767', '3217', '1578', '3218', '2773', '1147', '632', '648', '4588', '2896', '2463', '2863', '2791', '3186', 'redundant_4097', '426', 'PS_BONA', '4523', '4451', '656', '459', '2751', '5661', '2364', '709', '1627', '1152', 'redundant_574', 'redundant_35', '2995', '876', 'redundant_651', '1108', 'redundant_4578', '3089', '1650', '527', '2965', '3642', '654', '409', '4508', '3599', '123', '625', '5933', '1545', '1000', '2770', '3287', '3266', '1317', '2742', '450', '990', '2591', '33', '2694', '1780', '3026', '1944', '2861', 'PS_CMBL']\n",
            "Graph now has 3126 nodes and 4043 edges.\n",
            "Average Shortest Path Length: 22.4687953991581\n",
            "Node Connectivity: 0\n",
            "Size of Largest Connected Component: 2503\n",
            "Global Efficiency: 0.03666914807576112\n",
            "Diameter: 72\n",
            "Clustering Coefficient: 0.023569948047762215\n"
          ]
        }
      ]
    },
    {
      "cell_type": "code",
      "source": [
        "#print the attributes of the nodes with the top ten closeness centrality\n",
        "print(\"Top 10 nodes with the highest closeness centrality:\")\n",
        "for node, centrality in sorted(closeness.items(), key=lambda item: item[1], reverse=True)[:10]:\n",
        "    print(f\"Node: {node}, Closeness Centrality: {centrality}\")\n",
        "    print(f\"Attributes: {G.nodes[node]}\")\n",
        "    print()"
      ],
      "metadata": {
        "colab": {
          "base_uri": "https://localhost:8080/"
        },
        "id": "po4bZLJ_8Z3j",
        "outputId": "04171ade-bc7d-49d1-fede-668e07055438"
      },
      "execution_count": null,
      "outputs": [
        {
          "output_type": "stream",
          "name": "stdout",
          "text": [
            "Top 10 nodes with the highest closeness centrality:\n",
            "Node: 811, Closeness Centrality: 0.06868463551469987\n",
            "Attributes: {'stop_name': 'Fruitdale & Southwest', 'lon': -121.916016, 'lat': 37.310795}\n",
            "\n",
            "Node: 4451, Closeness Centrality: 0.06768286952276074\n",
            "Attributes: {'stop_name': 'Deer Creek & Mid Arastradero', 'lon': -122.150143, 'lat': 37.395701}\n",
            "\n",
            "Node: 4579, Closeness Centrality: 0.06711770879251022\n",
            "Attributes: {'stop_name': 'Capitol & Story', 'lon': -121.826614, 'lat': 37.349775}\n",
            "\n",
            "Node: 5407, Closeness Centrality: 0.06668641610600655\n",
            "Attributes: {'stop_name': 'Parkmoor & Race', 'lon': -121.911535, 'lat': 37.316682}\n",
            "\n",
            "Node: 4457, Closeness Centrality: 0.06668054646876541\n",
            "Attributes: {'stop_name': 'Ohlone-Chynoweth Station (Bay 1)', 'lon': -121.86005, 'lat': 37.257349}\n",
            "\n",
            "Node: PS_ARTC, Closeness Centrality: 0.06663802248038536\n",
            "Attributes: {'stop_name': 'Alum Rock Transit Center', 'lon': -121.832557, 'lat': 37.35802}\n",
            "\n",
            "Node: 4434, Closeness Centrality: 0.06615936585535978\n",
            "Attributes: {'stop_name': 'Deer Creek & Mid Deer Creek', 'lon': -122.149938, 'lat': 37.395358}\n",
            "\n",
            "Node: PS_DRDN, Closeness Centrality: 0.06567757069448935\n",
            "Attributes: {'stop_name': 'San Jose Diridon Station', 'lon': -121.902394, 'lat': 37.330656}\n",
            "\n",
            "Node: 3821, Closeness Centrality: 0.06566049347301346\n",
            "Attributes: {'stop_name': 'Capitol & Story', 'lon': -121.827088, 'lat': 37.351627}\n",
            "\n",
            "Node: 6067, Closeness Centrality: 0.06509489247020629\n",
            "Attributes: {'stop_name': 'Stokes & Southwest', 'lon': -121.928437, 'lat': 37.301557}\n",
            "\n"
          ]
        }
      ]
    },
    {
      "cell_type": "code",
      "source": [
        "#print the attributes of the nodes with the top ten betweenness centrality\n",
        "print(\"Top 10 nodes with the highest betweenness centrality:\")\n",
        "for node, centrality in sorted(betweenness.items(), key=lambda item: item[1], reverse=True)[:10]:\n",
        "    print(f\"Node: {node}, Betweenness Centrality: {centrality}\")\n",
        "    print(f\"Attributes: {G.nodes[node]}\")\n",
        "    print()"
      ],
      "metadata": {
        "colab": {
          "base_uri": "https://localhost:8080/"
        },
        "id": "--_3Bat08znj",
        "outputId": "89605e80-6c3d-44b9-ae9d-d6245fe09615"
      },
      "execution_count": null,
      "outputs": [
        {
          "output_type": "stream",
          "name": "stdout",
          "text": [
            "Top 10 nodes with the highest betweenness centrality:\n",
            "Node: 811, Betweenness Centrality: 0.19559866021164757\n",
            "Attributes: {'stop_name': 'Fruitdale & Southwest', 'lon': -121.916016, 'lat': 37.310795}\n",
            "\n",
            "Node: PS_MBRT, Betweenness Centrality: 0.13554273687816104\n",
            "Attributes: {'stop_name': 'Milpitas Transit Center', 'lon': -121.891459, 'lat': 37.409955}\n",
            "\n",
            "Node: PS_ARTC, Betweenness Centrality: 0.13169316279432003\n",
            "Attributes: {'stop_name': 'Alum Rock Transit Center', 'lon': -121.832557, 'lat': 37.35802}\n",
            "\n",
            "Node: PS_DRDN, Betweenness Centrality: 0.12790473751809794\n",
            "Attributes: {'stop_name': 'San Jose Diridon Station', 'lon': -121.902394, 'lat': 37.330656}\n",
            "\n",
            "Node: 4457, Betweenness Centrality: 0.1261801767145583\n",
            "Attributes: {'stop_name': 'Ohlone-Chynoweth Station (Bay 1)', 'lon': -121.86005, 'lat': 37.257349}\n",
            "\n",
            "Node: PS_SNLS, Betweenness Centrality: 0.11953707652341566\n",
            "Attributes: {'stop_name': 'Snell Station', 'lon': -121.83062, 'lat': 37.248664}\n",
            "\n",
            "Node: 4451, Betweenness Centrality: 0.11213037376758436\n",
            "Attributes: {'stop_name': 'Deer Creek & Mid Arastradero', 'lon': -122.150143, 'lat': 37.395701}\n",
            "\n",
            "Node: 4434, Betweenness Centrality: 0.10477512654975955\n",
            "Attributes: {'stop_name': 'Deer Creek & Mid Deer Creek', 'lon': -122.149938, 'lat': 37.395358}\n",
            "\n",
            "Node: 3860, Betweenness Centrality: 0.10331541240912434\n",
            "Attributes: {'stop_name': 'Capitol & McKee LR', 'lon': -121.844655, 'lat': 37.37144}\n",
            "\n",
            "Node: 3853, Betweenness Centrality: 0.10225892561471307\n",
            "Attributes: {'stop_name': 'Capitol & Ohlone', 'lon': -121.862032, 'lat': 37.387749}\n",
            "\n"
          ]
        }
      ]
    },
    {
      "cell_type": "code",
      "source": [
        "#print the attributes of the nodes with the top ten degree centrality\n",
        "print(\"Top 10 nodes with the highest degree centrality:\")\n",
        "for node, centrality in sorted(degree.items(), key=lambda item: item[1], reverse=True)[:10]:\n",
        "    print(f\"Node: {node}, Degree Centrality: {centrality}\")\n",
        "    print(f\"Attributes: {G.nodes[node]}\")\n",
        "    print()"
      ],
      "metadata": {
        "colab": {
          "base_uri": "https://localhost:8080/"
        },
        "id": "60vtNVqs9KRg",
        "outputId": "d9c57c59-cf67-4ef3-bed6-21607f4303b3"
      },
      "execution_count": null,
      "outputs": [
        {
          "output_type": "stream",
          "name": "stdout",
          "text": [
            "Top 10 nodes with the highest degree centrality:\n",
            "Node: PS_MBRT, Degree Centrality: 0.008552423186569527\n",
            "Attributes: {'stop_name': 'Milpitas Transit Center', 'lon': -121.891459, 'lat': 37.409955}\n",
            "\n",
            "Node: PS_ERTC, Degree Centrality: 0.006968641114982578\n",
            "Attributes: {'stop_name': 'Eastridge Transit Center', 'lon': -121.810911, 'lat': 37.327411}\n",
            "\n",
            "Node: PS_SCTC, Degree Centrality: 0.0063351282863477985\n",
            "Attributes: {'stop_name': 'Santa Clara Transit Center', 'lon': -121.93735, 'lat': 37.352956}\n",
            "\n",
            "Node: 4692, Degree Centrality: 0.005068102629078239\n",
            "Attributes: {'stop_name': 'Great America ACE Amtrak Station', 'lon': -121.96689, 'lat': 37.406433}\n",
            "\n",
            "Node: PS_BERR, Degree Centrality: 0.005068102629078239\n",
            "Attributes: {'stop_name': 'Berryessa Transit Center', 'lon': -121.874769, 'lat': 37.369628}\n",
            "\n",
            "Node: PS_DRDN, Degree Centrality: 0.004751346214760849\n",
            "Attributes: {'stop_name': 'San Jose Diridon Station', 'lon': -121.902394, 'lat': 37.330656}\n",
            "\n",
            "Node: 439, Degree Centrality: 0.004117833386126069\n",
            "Attributes: {'stop_name': 'Santa Clara & 5th', 'lon': -121.886197, 'lat': 37.338318}\n",
            "\n",
            "Node: PS_MVCT, Degree Centrality: 0.004117833386126069\n",
            "Attributes: {'stop_name': 'Mountain View Transit Center', 'lon': -122.077032, 'lat': 37.394586}\n",
            "\n",
            "Node: PS_GILR, Degree Centrality: 0.003801076971808679\n",
            "Attributes: {'stop_name': 'Gilroy Transit Center', 'lon': -121.566644, 'lat': 37.003703}\n",
            "\n",
            "Node: PS_PATC, Degree Centrality: 0.0031675641431738993\n",
            "Attributes: {'stop_name': 'Palo Alto Transit Center', 'lon': -122.166286, 'lat': 37.443986}\n",
            "\n"
          ]
        }
      ]
    },
    {
      "cell_type": "code",
      "source": [
        "calculation(G)"
      ],
      "metadata": {
        "colab": {
          "base_uri": "https://localhost:8080/"
        },
        "id": "RP7GCQ14mvgZ",
        "outputId": "30857d4c-11fe-422d-f85b-8a3cba918724"
      },
      "execution_count": null,
      "outputs": [
        {
          "output_type": "stream",
          "name": "stdout",
          "text": [
            "Average Shortest Path Length: 23.035845062489667\n",
            "Node Connectivity: 0\n",
            "Size of Largest Connected Component: 3094\n",
            "Global Efficiency: 0.05047551972717209\n",
            "Diameter: 64\n",
            "Clustering Coefficient: 0.02134335476640734\n"
          ]
        }
      ]
    }
  ]
}